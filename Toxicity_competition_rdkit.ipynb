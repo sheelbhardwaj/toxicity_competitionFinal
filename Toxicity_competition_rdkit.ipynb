{
 "cells": [
  {
   "cell_type": "code",
   "execution_count": 68,
   "id": "f9a49b89",
   "metadata": {},
   "outputs": [],
   "source": [
    "import pandas as pd\n",
    "import numpy as np\n",
    "from rdkit import Chem\n",
    "from rdkit.ML.Descriptors import MoleculeDescriptors"
   ]
  },
  {
   "cell_type": "code",
   "execution_count": 69,
   "id": "c60e0577",
   "metadata": {},
   "outputs": [],
   "source": [
    "train_data = pd.read_csv('train_II.csv')\n",
    "test_data = pd.read_csv('test_II.csv')"
   ]
  },
  {
   "cell_type": "code",
   "execution_count": 70,
   "id": "def5e0c9",
   "metadata": {},
   "outputs": [
    {
     "data": {
      "text/html": [
       "<div>\n",
       "<style scoped>\n",
       "    .dataframe tbody tr th:only-of-type {\n",
       "        vertical-align: middle;\n",
       "    }\n",
       "\n",
       "    .dataframe tbody tr th {\n",
       "        vertical-align: top;\n",
       "    }\n",
       "\n",
       "    .dataframe thead th {\n",
       "        text-align: right;\n",
       "    }\n",
       "</style>\n",
       "<table border=\"1\" class=\"dataframe\">\n",
       "  <thead>\n",
       "    <tr style=\"text-align: right;\">\n",
       "      <th></th>\n",
       "      <th>Id</th>\n",
       "    </tr>\n",
       "  </thead>\n",
       "  <tbody>\n",
       "    <tr>\n",
       "      <th>0</th>\n",
       "      <td>CC1=CC(=C(C=C1)C(C)(C)C)O;1682</td>\n",
       "    </tr>\n",
       "    <tr>\n",
       "      <th>1</th>\n",
       "      <td>CCS(=O)(=O)C1=C(N=CC=C1)S(=O)(=O)NC(=O)NC2=NC(...</td>\n",
       "    </tr>\n",
       "    <tr>\n",
       "      <th>2</th>\n",
       "      <td>CC1=NC2=CC=CC=C2N1C3CC4CCC(C3)N4CCC5(CCN(CC5)C...</td>\n",
       "    </tr>\n",
       "    <tr>\n",
       "      <th>3</th>\n",
       "      <td>CC1=CC(=O)[N-]S(=O)(=O)O1.[K+];1850</td>\n",
       "    </tr>\n",
       "    <tr>\n",
       "      <th>4</th>\n",
       "      <td>CCC(C)(C)C(=O)O[C@H]1C[C@H](C=C2[C@H]1[C@H]([C...</td>\n",
       "    </tr>\n",
       "  </tbody>\n",
       "</table>\n",
       "</div>"
      ],
      "text/plain": [
       "                                                  Id\n",
       "0                     CC1=CC(=C(C=C1)C(C)(C)C)O;1682\n",
       "1  CCS(=O)(=O)C1=C(N=CC=C1)S(=O)(=O)NC(=O)NC2=NC(...\n",
       "2  CC1=NC2=CC=CC=C2N1C3CC4CCC(C3)N4CCC5(CCN(CC5)C...\n",
       "3                CC1=CC(=O)[N-]S(=O)(=O)O1.[K+];1850\n",
       "4  CCC(C)(C)C(=O)O[C@H]1C[C@H](C=C2[C@H]1[C@H]([C..."
      ]
     },
     "execution_count": 70,
     "metadata": {},
     "output_type": "execute_result"
    }
   ],
   "source": [
    "test_data = test_data.rename(columns = {\"x\": \"Id\"})\n",
    "test_data.head()"
   ]
  },
  {
   "cell_type": "code",
   "execution_count": 71,
   "id": "d942e94b",
   "metadata": {},
   "outputs": [],
   "source": [
    "test_data['type'] = \"test\"\n",
    "train_data['type'] = \"train\""
   ]
  },
  {
   "cell_type": "code",
   "execution_count": 72,
   "id": "98079781",
   "metadata": {},
   "outputs": [
    {
     "data": {
      "text/html": [
       "<div>\n",
       "<style scoped>\n",
       "    .dataframe tbody tr th:only-of-type {\n",
       "        vertical-align: middle;\n",
       "    }\n",
       "\n",
       "    .dataframe tbody tr th {\n",
       "        vertical-align: top;\n",
       "    }\n",
       "\n",
       "    .dataframe thead th {\n",
       "        text-align: right;\n",
       "    }\n",
       "</style>\n",
       "<table border=\"1\" class=\"dataframe\">\n",
       "  <thead>\n",
       "    <tr style=\"text-align: right;\">\n",
       "      <th></th>\n",
       "      <th>Id</th>\n",
       "      <th>type</th>\n",
       "      <th>Expected</th>\n",
       "    </tr>\n",
       "  </thead>\n",
       "  <tbody>\n",
       "    <tr>\n",
       "      <th>0</th>\n",
       "      <td>CC1=CC(=C(C=C1)C(C)(C)C)O;1682</td>\n",
       "      <td>test</td>\n",
       "      <td>NaN</td>\n",
       "    </tr>\n",
       "    <tr>\n",
       "      <th>1</th>\n",
       "      <td>CCS(=O)(=O)C1=C(N=CC=C1)S(=O)(=O)NC(=O)NC2=NC(...</td>\n",
       "      <td>test</td>\n",
       "      <td>NaN</td>\n",
       "    </tr>\n",
       "    <tr>\n",
       "      <th>2</th>\n",
       "      <td>CC1=NC2=CC=CC=C2N1C3CC4CCC(C3)N4CCC5(CCN(CC5)C...</td>\n",
       "      <td>test</td>\n",
       "      <td>NaN</td>\n",
       "    </tr>\n",
       "    <tr>\n",
       "      <th>3</th>\n",
       "      <td>CC1=CC(=O)[N-]S(=O)(=O)O1.[K+];1850</td>\n",
       "      <td>test</td>\n",
       "      <td>NaN</td>\n",
       "    </tr>\n",
       "    <tr>\n",
       "      <th>4</th>\n",
       "      <td>CCC(C)(C)C(=O)O[C@H]1C[C@H](C=C2[C@H]1[C@H]([C...</td>\n",
       "      <td>test</td>\n",
       "      <td>NaN</td>\n",
       "    </tr>\n",
       "  </tbody>\n",
       "</table>\n",
       "</div>"
      ],
      "text/plain": [
       "                                                  Id  type  Expected\n",
       "0                     CC1=CC(=C(C=C1)C(C)(C)C)O;1682  test       NaN\n",
       "1  CCS(=O)(=O)C1=C(N=CC=C1)S(=O)(=O)NC(=O)NC2=NC(...  test       NaN\n",
       "2  CC1=NC2=CC=CC=C2N1C3CC4CCC(C3)N4CCC5(CCN(CC5)C...  test       NaN\n",
       "3                CC1=CC(=O)[N-]S(=O)(=O)O1.[K+];1850  test       NaN\n",
       "4  CCC(C)(C)C(=O)O[C@H]1C[C@H](C=C2[C@H]1[C@H]([C...  test       NaN"
      ]
     },
     "execution_count": 72,
     "metadata": {},
     "output_type": "execute_result"
    }
   ],
   "source": [
    "df = pd.concat([test_data, train_data])\n",
    "df.head()"
   ]
  },
  {
   "cell_type": "code",
   "execution_count": 73,
   "id": "f4e4a4ba",
   "metadata": {},
   "outputs": [
    {
     "data": {
      "text/html": [
       "<div>\n",
       "<style scoped>\n",
       "    .dataframe tbody tr th:only-of-type {\n",
       "        vertical-align: middle;\n",
       "    }\n",
       "\n",
       "    .dataframe tbody tr th {\n",
       "        vertical-align: top;\n",
       "    }\n",
       "\n",
       "    .dataframe thead th {\n",
       "        text-align: right;\n",
       "    }\n",
       "</style>\n",
       "<table border=\"1\" class=\"dataframe\">\n",
       "  <thead>\n",
       "    <tr style=\"text-align: right;\">\n",
       "      <th></th>\n",
       "      <th>Id</th>\n",
       "      <th>type</th>\n",
       "      <th>Expected</th>\n",
       "      <th>Chemical_Id</th>\n",
       "      <th>Assay_Id</th>\n",
       "    </tr>\n",
       "  </thead>\n",
       "  <tbody>\n",
       "    <tr>\n",
       "      <th>0</th>\n",
       "      <td>CC1=CC(=C(C=C1)C(C)(C)C)O;1682</td>\n",
       "      <td>test</td>\n",
       "      <td>NaN</td>\n",
       "      <td>CC1=CC(=C(C=C1)C(C)(C)C)O</td>\n",
       "      <td>1682</td>\n",
       "    </tr>\n",
       "    <tr>\n",
       "      <th>1</th>\n",
       "      <td>CCS(=O)(=O)C1=C(N=CC=C1)S(=O)(=O)NC(=O)NC2=NC(...</td>\n",
       "      <td>test</td>\n",
       "      <td>NaN</td>\n",
       "      <td>CCS(=O)(=O)C1=C(N=CC=C1)S(=O)(=O)NC(=O)NC2=NC(...</td>\n",
       "      <td>1656</td>\n",
       "    </tr>\n",
       "    <tr>\n",
       "      <th>2</th>\n",
       "      <td>CC1=NC2=CC=CC=C2N1C3CC4CCC(C3)N4CCC5(CCN(CC5)C...</td>\n",
       "      <td>test</td>\n",
       "      <td>NaN</td>\n",
       "      <td>CC1=NC2=CC=CC=C2N1C3CC4CCC(C3)N4CCC5(CCN(CC5)C...</td>\n",
       "      <td>36</td>\n",
       "    </tr>\n",
       "    <tr>\n",
       "      <th>3</th>\n",
       "      <td>CC1=CC(=O)[N-]S(=O)(=O)O1.[K+];1850</td>\n",
       "      <td>test</td>\n",
       "      <td>NaN</td>\n",
       "      <td>CC1=CC(=O)[N-]S(=O)(=O)O1.[K+]</td>\n",
       "      <td>1850</td>\n",
       "    </tr>\n",
       "    <tr>\n",
       "      <th>4</th>\n",
       "      <td>CCC(C)(C)C(=O)O[C@H]1C[C@H](C=C2[C@H]1[C@H]([C...</td>\n",
       "      <td>test</td>\n",
       "      <td>NaN</td>\n",
       "      <td>CCC(C)(C)C(=O)O[C@H]1C[C@H](C=C2[C@H]1[C@H]([C...</td>\n",
       "      <td>30</td>\n",
       "    </tr>\n",
       "  </tbody>\n",
       "</table>\n",
       "</div>"
      ],
      "text/plain": [
       "                                                  Id  type  Expected  \\\n",
       "0                     CC1=CC(=C(C=C1)C(C)(C)C)O;1682  test       NaN   \n",
       "1  CCS(=O)(=O)C1=C(N=CC=C1)S(=O)(=O)NC(=O)NC2=NC(...  test       NaN   \n",
       "2  CC1=NC2=CC=CC=C2N1C3CC4CCC(C3)N4CCC5(CCN(CC5)C...  test       NaN   \n",
       "3                CC1=CC(=O)[N-]S(=O)(=O)O1.[K+];1850  test       NaN   \n",
       "4  CCC(C)(C)C(=O)O[C@H]1C[C@H](C=C2[C@H]1[C@H]([C...  test       NaN   \n",
       "\n",
       "                                         Chemical_Id Assay_Id  \n",
       "0                          CC1=CC(=C(C=C1)C(C)(C)C)O     1682  \n",
       "1  CCS(=O)(=O)C1=C(N=CC=C1)S(=O)(=O)NC(=O)NC2=NC(...     1656  \n",
       "2  CC1=NC2=CC=CC=C2N1C3CC4CCC(C3)N4CCC5(CCN(CC5)C...       36  \n",
       "3                     CC1=CC(=O)[N-]S(=O)(=O)O1.[K+]     1850  \n",
       "4  CCC(C)(C)C(=O)O[C@H]1C[C@H](C=C2[C@H]1[C@H]([C...       30  "
      ]
     },
     "execution_count": 73,
     "metadata": {},
     "output_type": "execute_result"
    }
   ],
   "source": [
    "df[[\"Chemical_Id\", \"Assay_Id\"]] = df.Id.str.split(\";\", expand = True)\n",
    "df.head()"
   ]
  },
  {
   "cell_type": "code",
   "execution_count": 74,
   "id": "11da2a61",
   "metadata": {},
   "outputs": [
    {
     "name": "stderr",
     "output_type": "stream",
     "text": [
      "[15:05:42] Explicit valence for atom # 1 Si, 8, is greater than permitted\n",
      "[15:05:44] Explicit valence for atom # 1 Si, 8, is greater than permitted\n",
      "[15:05:45] Explicit valence for atom # 1 Si, 8, is greater than permitted\n",
      "[15:05:47] Explicit valence for atom # 1 Si, 8, is greater than permitted\n",
      "[15:05:50] Explicit valence for atom # 1 Si, 8, is greater than permitted\n",
      "[15:05:51] Explicit valence for atom # 1 Si, 8, is greater than permitted\n"
     ]
    }
   ],
   "source": [
    "from rdkit.Chem import Descriptors\n",
    "def RDkit_descriptors(smiles):\n",
    "    mols = [Chem.MolFromSmiles(i) for i in smiles] \n",
    "    calc = MoleculeDescriptors.MolecularDescriptorCalculator([x[0] for x in Descriptors._descList])\n",
    "    desc_names = calc.GetDescriptorNames()\n",
    "    \n",
    "    Mol_descriptors =[]\n",
    "    for mol in mols:\n",
    "        if mol:\n",
    "        # add hydrogens to molecules\n",
    "            mol=Chem.AddHs(mol)\n",
    "        # Calculate all 200 descriptors for each molecule\n",
    "            descriptors = calc.CalcDescriptors(mol)\n",
    "        Mol_descriptors.append(descriptors)\n",
    "    return Mol_descriptors,desc_names \n",
    "\n",
    "# Function call\n",
    "Mol_descriptors,desc_names = RDkit_descriptors(df['Chemical_Id'])"
   ]
  },
  {
   "cell_type": "code",
   "execution_count": 75,
   "id": "450865be",
   "metadata": {},
   "outputs": [
    {
     "data": {
      "text/html": [
       "<div>\n",
       "<style scoped>\n",
       "    .dataframe tbody tr th:only-of-type {\n",
       "        vertical-align: middle;\n",
       "    }\n",
       "\n",
       "    .dataframe tbody tr th {\n",
       "        vertical-align: top;\n",
       "    }\n",
       "\n",
       "    .dataframe thead th {\n",
       "        text-align: right;\n",
       "    }\n",
       "</style>\n",
       "<table border=\"1\" class=\"dataframe\">\n",
       "  <thead>\n",
       "    <tr style=\"text-align: right;\">\n",
       "      <th></th>\n",
       "      <th>MaxEStateIndex</th>\n",
       "      <th>MinEStateIndex</th>\n",
       "      <th>MaxAbsEStateIndex</th>\n",
       "      <th>MinAbsEStateIndex</th>\n",
       "      <th>qed</th>\n",
       "      <th>MolWt</th>\n",
       "      <th>HeavyAtomMolWt</th>\n",
       "      <th>ExactMolWt</th>\n",
       "      <th>NumValenceElectrons</th>\n",
       "      <th>NumRadicalElectrons</th>\n",
       "      <th>...</th>\n",
       "      <th>fr_sulfide</th>\n",
       "      <th>fr_sulfonamd</th>\n",
       "      <th>fr_sulfone</th>\n",
       "      <th>fr_term_acetylene</th>\n",
       "      <th>fr_tetrazole</th>\n",
       "      <th>fr_thiazole</th>\n",
       "      <th>fr_thiocyan</th>\n",
       "      <th>fr_thiophene</th>\n",
       "      <th>fr_unbrch_alkane</th>\n",
       "      <th>fr_urea</th>\n",
       "    </tr>\n",
       "  </thead>\n",
       "  <tbody>\n",
       "    <tr>\n",
       "      <th>0</th>\n",
       "      <td>8.018449</td>\n",
       "      <td>-3.840318</td>\n",
       "      <td>8.018449</td>\n",
       "      <td>1.098125</td>\n",
       "      <td>0.624614</td>\n",
       "      <td>164.248</td>\n",
       "      <td>148.120</td>\n",
       "      <td>164.120115</td>\n",
       "      <td>66</td>\n",
       "      <td>0</td>\n",
       "      <td>...</td>\n",
       "      <td>0</td>\n",
       "      <td>0</td>\n",
       "      <td>0</td>\n",
       "      <td>0</td>\n",
       "      <td>0</td>\n",
       "      <td>0</td>\n",
       "      <td>0</td>\n",
       "      <td>0</td>\n",
       "      <td>0</td>\n",
       "      <td>0</td>\n",
       "    </tr>\n",
       "    <tr>\n",
       "      <th>1</th>\n",
       "      <td>13.253248</td>\n",
       "      <td>-6.190954</td>\n",
       "      <td>13.253248</td>\n",
       "      <td>0.749312</td>\n",
       "      <td>0.617511</td>\n",
       "      <td>431.452</td>\n",
       "      <td>414.316</td>\n",
       "      <td>431.056940</td>\n",
       "      <td>152</td>\n",
       "      <td>0</td>\n",
       "      <td>...</td>\n",
       "      <td>0</td>\n",
       "      <td>1</td>\n",
       "      <td>1</td>\n",
       "      <td>0</td>\n",
       "      <td>0</td>\n",
       "      <td>0</td>\n",
       "      <td>0</td>\n",
       "      <td>0</td>\n",
       "      <td>0</td>\n",
       "      <td>1</td>\n",
       "    </tr>\n",
       "    <tr>\n",
       "      <th>2</th>\n",
       "      <td>16.485402</td>\n",
       "      <td>-6.427849</td>\n",
       "      <td>16.485402</td>\n",
       "      <td>0.554422</td>\n",
       "      <td>0.224134</td>\n",
       "      <td>696.264</td>\n",
       "      <td>655.944</td>\n",
       "      <td>695.250845</td>\n",
       "      <td>254</td>\n",
       "      <td>0</td>\n",
       "      <td>...</td>\n",
       "      <td>0</td>\n",
       "      <td>1</td>\n",
       "      <td>0</td>\n",
       "      <td>0</td>\n",
       "      <td>0</td>\n",
       "      <td>0</td>\n",
       "      <td>0</td>\n",
       "      <td>0</td>\n",
       "      <td>0</td>\n",
       "      <td>0</td>\n",
       "    </tr>\n",
       "    <tr>\n",
       "      <th>3</th>\n",
       "      <td>10.745579</td>\n",
       "      <td>-4.559583</td>\n",
       "      <td>10.745579</td>\n",
       "      <td>0.000000</td>\n",
       "      <td>0.393203</td>\n",
       "      <td>201.244</td>\n",
       "      <td>197.212</td>\n",
       "      <td>200.949810</td>\n",
       "      <td>56</td>\n",
       "      <td>0</td>\n",
       "      <td>...</td>\n",
       "      <td>0</td>\n",
       "      <td>0</td>\n",
       "      <td>0</td>\n",
       "      <td>0</td>\n",
       "      <td>0</td>\n",
       "      <td>0</td>\n",
       "      <td>0</td>\n",
       "      <td>0</td>\n",
       "      <td>0</td>\n",
       "      <td>0</td>\n",
       "    </tr>\n",
       "    <tr>\n",
       "      <th>4</th>\n",
       "      <td>14.743838</td>\n",
       "      <td>-5.881101</td>\n",
       "      <td>14.743838</td>\n",
       "      <td>2.392476</td>\n",
       "      <td>0.639062</td>\n",
       "      <td>418.574</td>\n",
       "      <td>380.270</td>\n",
       "      <td>418.271924</td>\n",
       "      <td>168</td>\n",
       "      <td>0</td>\n",
       "      <td>...</td>\n",
       "      <td>0</td>\n",
       "      <td>0</td>\n",
       "      <td>0</td>\n",
       "      <td>0</td>\n",
       "      <td>0</td>\n",
       "      <td>0</td>\n",
       "      <td>0</td>\n",
       "      <td>0</td>\n",
       "      <td>0</td>\n",
       "      <td>0</td>\n",
       "    </tr>\n",
       "    <tr>\n",
       "      <th>...</th>\n",
       "      <td>...</td>\n",
       "      <td>...</td>\n",
       "      <td>...</td>\n",
       "      <td>...</td>\n",
       "      <td>...</td>\n",
       "      <td>...</td>\n",
       "      <td>...</td>\n",
       "      <td>...</td>\n",
       "      <td>...</td>\n",
       "      <td>...</td>\n",
       "      <td>...</td>\n",
       "      <td>...</td>\n",
       "      <td>...</td>\n",
       "      <td>...</td>\n",
       "      <td>...</td>\n",
       "      <td>...</td>\n",
       "      <td>...</td>\n",
       "      <td>...</td>\n",
       "      <td>...</td>\n",
       "      <td>...</td>\n",
       "      <td>...</td>\n",
       "    </tr>\n",
       "    <tr>\n",
       "      <th>86372</th>\n",
       "      <td>12.226619</td>\n",
       "      <td>-5.339907</td>\n",
       "      <td>12.226619</td>\n",
       "      <td>0.265375</td>\n",
       "      <td>0.712426</td>\n",
       "      <td>230.245</td>\n",
       "      <td>220.165</td>\n",
       "      <td>230.036128</td>\n",
       "      <td>82</td>\n",
       "      <td>0</td>\n",
       "      <td>...</td>\n",
       "      <td>0</td>\n",
       "      <td>1</td>\n",
       "      <td>0</td>\n",
       "      <td>0</td>\n",
       "      <td>0</td>\n",
       "      <td>0</td>\n",
       "      <td>0</td>\n",
       "      <td>0</td>\n",
       "      <td>0</td>\n",
       "      <td>0</td>\n",
       "    </tr>\n",
       "    <tr>\n",
       "      <th>86373</th>\n",
       "      <td>8.048957</td>\n",
       "      <td>-5.193498</td>\n",
       "      <td>8.048957</td>\n",
       "      <td>0.110750</td>\n",
       "      <td>0.720533</td>\n",
       "      <td>313.747</td>\n",
       "      <td>296.611</td>\n",
       "      <td>313.041677</td>\n",
       "      <td>104</td>\n",
       "      <td>0</td>\n",
       "      <td>...</td>\n",
       "      <td>0</td>\n",
       "      <td>0</td>\n",
       "      <td>0</td>\n",
       "      <td>0</td>\n",
       "      <td>0</td>\n",
       "      <td>0</td>\n",
       "      <td>0</td>\n",
       "      <td>0</td>\n",
       "      <td>0</td>\n",
       "      <td>0</td>\n",
       "    </tr>\n",
       "    <tr>\n",
       "      <th>86374</th>\n",
       "      <td>7.612361</td>\n",
       "      <td>-0.332130</td>\n",
       "      <td>7.612361</td>\n",
       "      <td>0.131389</td>\n",
       "      <td>0.596343</td>\n",
       "      <td>167.258</td>\n",
       "      <td>162.218</td>\n",
       "      <td>166.986341</td>\n",
       "      <td>50</td>\n",
       "      <td>0</td>\n",
       "      <td>...</td>\n",
       "      <td>0</td>\n",
       "      <td>0</td>\n",
       "      <td>0</td>\n",
       "      <td>0</td>\n",
       "      <td>0</td>\n",
       "      <td>1</td>\n",
       "      <td>0</td>\n",
       "      <td>0</td>\n",
       "      <td>0</td>\n",
       "      <td>0</td>\n",
       "    </tr>\n",
       "    <tr>\n",
       "      <th>86375</th>\n",
       "      <td>11.548424</td>\n",
       "      <td>-4.352546</td>\n",
       "      <td>11.548424</td>\n",
       "      <td>2.482554</td>\n",
       "      <td>0.519485</td>\n",
       "      <td>128.215</td>\n",
       "      <td>112.087</td>\n",
       "      <td>128.120115</td>\n",
       "      <td>54</td>\n",
       "      <td>0</td>\n",
       "      <td>...</td>\n",
       "      <td>0</td>\n",
       "      <td>0</td>\n",
       "      <td>0</td>\n",
       "      <td>0</td>\n",
       "      <td>0</td>\n",
       "      <td>0</td>\n",
       "      <td>0</td>\n",
       "      <td>0</td>\n",
       "      <td>0</td>\n",
       "      <td>0</td>\n",
       "    </tr>\n",
       "    <tr>\n",
       "      <th>86376</th>\n",
       "      <td>14.516502</td>\n",
       "      <td>-5.648420</td>\n",
       "      <td>14.516502</td>\n",
       "      <td>1.927800</td>\n",
       "      <td>0.165457</td>\n",
       "      <td>636.962</td>\n",
       "      <td>572.450</td>\n",
       "      <td>636.486609</td>\n",
       "      <td>258</td>\n",
       "      <td>0</td>\n",
       "      <td>...</td>\n",
       "      <td>0</td>\n",
       "      <td>0</td>\n",
       "      <td>0</td>\n",
       "      <td>0</td>\n",
       "      <td>0</td>\n",
       "      <td>0</td>\n",
       "      <td>0</td>\n",
       "      <td>0</td>\n",
       "      <td>0</td>\n",
       "      <td>0</td>\n",
       "    </tr>\n",
       "  </tbody>\n",
       "</table>\n",
       "<p>86377 rows × 208 columns</p>\n",
       "</div>"
      ],
      "text/plain": [
       "       MaxEStateIndex  MinEStateIndex  MaxAbsEStateIndex  MinAbsEStateIndex  \\\n",
       "0            8.018449       -3.840318           8.018449           1.098125   \n",
       "1           13.253248       -6.190954          13.253248           0.749312   \n",
       "2           16.485402       -6.427849          16.485402           0.554422   \n",
       "3           10.745579       -4.559583          10.745579           0.000000   \n",
       "4           14.743838       -5.881101          14.743838           2.392476   \n",
       "...               ...             ...                ...                ...   \n",
       "86372       12.226619       -5.339907          12.226619           0.265375   \n",
       "86373        8.048957       -5.193498           8.048957           0.110750   \n",
       "86374        7.612361       -0.332130           7.612361           0.131389   \n",
       "86375       11.548424       -4.352546          11.548424           2.482554   \n",
       "86376       14.516502       -5.648420          14.516502           1.927800   \n",
       "\n",
       "            qed    MolWt  HeavyAtomMolWt  ExactMolWt  NumValenceElectrons  \\\n",
       "0      0.624614  164.248         148.120  164.120115                   66   \n",
       "1      0.617511  431.452         414.316  431.056940                  152   \n",
       "2      0.224134  696.264         655.944  695.250845                  254   \n",
       "3      0.393203  201.244         197.212  200.949810                   56   \n",
       "4      0.639062  418.574         380.270  418.271924                  168   \n",
       "...         ...      ...             ...         ...                  ...   \n",
       "86372  0.712426  230.245         220.165  230.036128                   82   \n",
       "86373  0.720533  313.747         296.611  313.041677                  104   \n",
       "86374  0.596343  167.258         162.218  166.986341                   50   \n",
       "86375  0.519485  128.215         112.087  128.120115                   54   \n",
       "86376  0.165457  636.962         572.450  636.486609                  258   \n",
       "\n",
       "       NumRadicalElectrons  ...  fr_sulfide  fr_sulfonamd  fr_sulfone  \\\n",
       "0                        0  ...           0             0           0   \n",
       "1                        0  ...           0             1           1   \n",
       "2                        0  ...           0             1           0   \n",
       "3                        0  ...           0             0           0   \n",
       "4                        0  ...           0             0           0   \n",
       "...                    ...  ...         ...           ...         ...   \n",
       "86372                    0  ...           0             1           0   \n",
       "86373                    0  ...           0             0           0   \n",
       "86374                    0  ...           0             0           0   \n",
       "86375                    0  ...           0             0           0   \n",
       "86376                    0  ...           0             0           0   \n",
       "\n",
       "       fr_term_acetylene  fr_tetrazole  fr_thiazole  fr_thiocyan  \\\n",
       "0                      0             0            0            0   \n",
       "1                      0             0            0            0   \n",
       "2                      0             0            0            0   \n",
       "3                      0             0            0            0   \n",
       "4                      0             0            0            0   \n",
       "...                  ...           ...          ...          ...   \n",
       "86372                  0             0            0            0   \n",
       "86373                  0             0            0            0   \n",
       "86374                  0             0            1            0   \n",
       "86375                  0             0            0            0   \n",
       "86376                  0             0            0            0   \n",
       "\n",
       "       fr_thiophene  fr_unbrch_alkane  fr_urea  \n",
       "0                 0                 0        0  \n",
       "1                 0                 0        1  \n",
       "2                 0                 0        0  \n",
       "3                 0                 0        0  \n",
       "4                 0                 0        0  \n",
       "...             ...               ...      ...  \n",
       "86372             0                 0        0  \n",
       "86373             0                 0        0  \n",
       "86374             0                 0        0  \n",
       "86375             0                 0        0  \n",
       "86376             0                 0        0  \n",
       "\n",
       "[86377 rows x 208 columns]"
      ]
     },
     "execution_count": 75,
     "metadata": {},
     "output_type": "execute_result"
    }
   ],
   "source": [
    "df_descriptors = pd.DataFrame(Mol_descriptors,columns=desc_names)\n",
    "df_descriptors"
   ]
  },
  {
   "cell_type": "code",
   "execution_count": 10,
   "id": "04145b39",
   "metadata": {},
   "outputs": [],
   "source": [
    "# df_descriptors = df_descriptors.astype('float32')"
   ]
  },
  {
   "cell_type": "code",
   "execution_count": 76,
   "id": "99515313",
   "metadata": {},
   "outputs": [
    {
     "data": {
      "text/html": [
       "<div>\n",
       "<style scoped>\n",
       "    .dataframe tbody tr th:only-of-type {\n",
       "        vertical-align: middle;\n",
       "    }\n",
       "\n",
       "    .dataframe tbody tr th {\n",
       "        vertical-align: top;\n",
       "    }\n",
       "\n",
       "    .dataframe thead th {\n",
       "        text-align: right;\n",
       "    }\n",
       "</style>\n",
       "<table border=\"1\" class=\"dataframe\">\n",
       "  <thead>\n",
       "    <tr style=\"text-align: right;\">\n",
       "      <th></th>\n",
       "      <th>MaxEStateIndex</th>\n",
       "      <th>MinEStateIndex</th>\n",
       "      <th>MaxAbsEStateIndex</th>\n",
       "      <th>MinAbsEStateIndex</th>\n",
       "      <th>qed</th>\n",
       "      <th>MolWt</th>\n",
       "      <th>HeavyAtomMolWt</th>\n",
       "      <th>ExactMolWt</th>\n",
       "      <th>NumValenceElectrons</th>\n",
       "      <th>NumRadicalElectrons</th>\n",
       "      <th>...</th>\n",
       "      <th>fr_sulfide</th>\n",
       "      <th>fr_sulfonamd</th>\n",
       "      <th>fr_sulfone</th>\n",
       "      <th>fr_term_acetylene</th>\n",
       "      <th>fr_tetrazole</th>\n",
       "      <th>fr_thiazole</th>\n",
       "      <th>fr_thiocyan</th>\n",
       "      <th>fr_thiophene</th>\n",
       "      <th>fr_unbrch_alkane</th>\n",
       "      <th>fr_urea</th>\n",
       "    </tr>\n",
       "  </thead>\n",
       "  <tbody>\n",
       "    <tr>\n",
       "      <th>0</th>\n",
       "      <td>8.018449</td>\n",
       "      <td>-3.840318</td>\n",
       "      <td>8.018449</td>\n",
       "      <td>1.098125</td>\n",
       "      <td>0.624614</td>\n",
       "      <td>164.248</td>\n",
       "      <td>148.120</td>\n",
       "      <td>164.120115</td>\n",
       "      <td>66</td>\n",
       "      <td>0</td>\n",
       "      <td>...</td>\n",
       "      <td>0</td>\n",
       "      <td>0</td>\n",
       "      <td>0</td>\n",
       "      <td>0</td>\n",
       "      <td>0</td>\n",
       "      <td>0</td>\n",
       "      <td>0</td>\n",
       "      <td>0</td>\n",
       "      <td>0</td>\n",
       "      <td>0</td>\n",
       "    </tr>\n",
       "    <tr>\n",
       "      <th>1</th>\n",
       "      <td>13.253248</td>\n",
       "      <td>-6.190954</td>\n",
       "      <td>13.253248</td>\n",
       "      <td>0.749312</td>\n",
       "      <td>0.617511</td>\n",
       "      <td>431.452</td>\n",
       "      <td>414.316</td>\n",
       "      <td>431.056940</td>\n",
       "      <td>152</td>\n",
       "      <td>0</td>\n",
       "      <td>...</td>\n",
       "      <td>0</td>\n",
       "      <td>1</td>\n",
       "      <td>1</td>\n",
       "      <td>0</td>\n",
       "      <td>0</td>\n",
       "      <td>0</td>\n",
       "      <td>0</td>\n",
       "      <td>0</td>\n",
       "      <td>0</td>\n",
       "      <td>1</td>\n",
       "    </tr>\n",
       "    <tr>\n",
       "      <th>2</th>\n",
       "      <td>16.485402</td>\n",
       "      <td>-6.427849</td>\n",
       "      <td>16.485402</td>\n",
       "      <td>0.554422</td>\n",
       "      <td>0.224134</td>\n",
       "      <td>696.264</td>\n",
       "      <td>655.944</td>\n",
       "      <td>695.250845</td>\n",
       "      <td>254</td>\n",
       "      <td>0</td>\n",
       "      <td>...</td>\n",
       "      <td>0</td>\n",
       "      <td>1</td>\n",
       "      <td>0</td>\n",
       "      <td>0</td>\n",
       "      <td>0</td>\n",
       "      <td>0</td>\n",
       "      <td>0</td>\n",
       "      <td>0</td>\n",
       "      <td>0</td>\n",
       "      <td>0</td>\n",
       "    </tr>\n",
       "    <tr>\n",
       "      <th>3</th>\n",
       "      <td>10.745579</td>\n",
       "      <td>-4.559583</td>\n",
       "      <td>10.745579</td>\n",
       "      <td>0.000000</td>\n",
       "      <td>0.393203</td>\n",
       "      <td>201.244</td>\n",
       "      <td>197.212</td>\n",
       "      <td>200.949810</td>\n",
       "      <td>56</td>\n",
       "      <td>0</td>\n",
       "      <td>...</td>\n",
       "      <td>0</td>\n",
       "      <td>0</td>\n",
       "      <td>0</td>\n",
       "      <td>0</td>\n",
       "      <td>0</td>\n",
       "      <td>0</td>\n",
       "      <td>0</td>\n",
       "      <td>0</td>\n",
       "      <td>0</td>\n",
       "      <td>0</td>\n",
       "    </tr>\n",
       "    <tr>\n",
       "      <th>4</th>\n",
       "      <td>14.743838</td>\n",
       "      <td>-5.881101</td>\n",
       "      <td>14.743838</td>\n",
       "      <td>2.392476</td>\n",
       "      <td>0.639062</td>\n",
       "      <td>418.574</td>\n",
       "      <td>380.270</td>\n",
       "      <td>418.271924</td>\n",
       "      <td>168</td>\n",
       "      <td>0</td>\n",
       "      <td>...</td>\n",
       "      <td>0</td>\n",
       "      <td>0</td>\n",
       "      <td>0</td>\n",
       "      <td>0</td>\n",
       "      <td>0</td>\n",
       "      <td>0</td>\n",
       "      <td>0</td>\n",
       "      <td>0</td>\n",
       "      <td>0</td>\n",
       "      <td>0</td>\n",
       "    </tr>\n",
       "  </tbody>\n",
       "</table>\n",
       "<p>5 rows × 208 columns</p>\n",
       "</div>"
      ],
      "text/plain": [
       "   MaxEStateIndex  MinEStateIndex  MaxAbsEStateIndex  MinAbsEStateIndex  \\\n",
       "0        8.018449       -3.840318           8.018449           1.098125   \n",
       "1       13.253248       -6.190954          13.253248           0.749312   \n",
       "2       16.485402       -6.427849          16.485402           0.554422   \n",
       "3       10.745579       -4.559583          10.745579           0.000000   \n",
       "4       14.743838       -5.881101          14.743838           2.392476   \n",
       "\n",
       "        qed    MolWt  HeavyAtomMolWt  ExactMolWt  NumValenceElectrons  \\\n",
       "0  0.624614  164.248         148.120  164.120115                   66   \n",
       "1  0.617511  431.452         414.316  431.056940                  152   \n",
       "2  0.224134  696.264         655.944  695.250845                  254   \n",
       "3  0.393203  201.244         197.212  200.949810                   56   \n",
       "4  0.639062  418.574         380.270  418.271924                  168   \n",
       "\n",
       "   NumRadicalElectrons  ...  fr_sulfide  fr_sulfonamd  fr_sulfone  \\\n",
       "0                    0  ...           0             0           0   \n",
       "1                    0  ...           0             1           1   \n",
       "2                    0  ...           0             1           0   \n",
       "3                    0  ...           0             0           0   \n",
       "4                    0  ...           0             0           0   \n",
       "\n",
       "   fr_term_acetylene  fr_tetrazole  fr_thiazole  fr_thiocyan  fr_thiophene  \\\n",
       "0                  0             0            0            0             0   \n",
       "1                  0             0            0            0             0   \n",
       "2                  0             0            0            0             0   \n",
       "3                  0             0            0            0             0   \n",
       "4                  0             0            0            0             0   \n",
       "\n",
       "   fr_unbrch_alkane  fr_urea  \n",
       "0                 0        0  \n",
       "1                 0        1  \n",
       "2                 0        0  \n",
       "3                 0        0  \n",
       "4                 0        0  \n",
       "\n",
       "[5 rows x 208 columns]"
      ]
     },
     "execution_count": 76,
     "metadata": {},
     "output_type": "execute_result"
    }
   ],
   "source": [
    "df_descriptors.head()"
   ]
  },
  {
   "cell_type": "code",
   "execution_count": 77,
   "id": "5f711ff7",
   "metadata": {},
   "outputs": [
    {
     "data": {
      "text/plain": [
       "['MaxPartialCharge',\n",
       " 'MinPartialCharge',\n",
       " 'MaxAbsPartialCharge',\n",
       " 'MinAbsPartialCharge',\n",
       " 'BCUT2D_MWHI',\n",
       " 'BCUT2D_MWLOW',\n",
       " 'BCUT2D_CHGHI',\n",
       " 'BCUT2D_CHGLO',\n",
       " 'BCUT2D_LOGPHI',\n",
       " 'BCUT2D_LOGPLOW',\n",
       " 'BCUT2D_MRHI',\n",
       " 'BCUT2D_MRLOW']"
      ]
     },
     "execution_count": 77,
     "metadata": {},
     "output_type": "execute_result"
    }
   ],
   "source": [
    "df_descriptors.columns[df_descriptors.isnull().any()].tolist()"
   ]
  },
  {
   "cell_type": "code",
   "execution_count": 78,
   "id": "86fb3a36",
   "metadata": {},
   "outputs": [],
   "source": [
    "df_descriptors = df_descriptors.replace([np.inf, -np.inf], np.nan)"
   ]
  },
  {
   "cell_type": "code",
   "execution_count": 79,
   "id": "b0f0e047",
   "metadata": {},
   "outputs": [],
   "source": [
    "df_descriptors = df_descriptors.fillna(df_descriptors.mean())"
   ]
  },
  {
   "cell_type": "code",
   "execution_count": 80,
   "id": "c716e460",
   "metadata": {},
   "outputs": [
    {
     "data": {
      "text/plain": [
       "[]"
      ]
     },
     "execution_count": 80,
     "metadata": {},
     "output_type": "execute_result"
    }
   ],
   "source": [
    "df_descriptors.columns[df_descriptors.isnull().any()].tolist()"
   ]
  },
  {
   "cell_type": "code",
   "execution_count": 81,
   "id": "8a57ccee",
   "metadata": {},
   "outputs": [],
   "source": [
    "df_descriptors['MaxEStateIndex'] = df_descriptors['MaxEStateIndex'].apply(np.int64)\n",
    "df_descriptors['MinEStateIndex'] = df_descriptors['MinEStateIndex'].apply(np.int64)\n",
    "df_descriptors['MaxAbsEStateIndex'] = df_descriptors['MaxAbsEStateIndex'].apply(np.int64)\n",
    "df_descriptors['MinAbsEStateIndex'] = df_descriptors['MinAbsEStateIndex'].apply(np.int64)\n",
    "df_descriptors['qed'] = df_descriptors['qed'].apply(np.int64)\n",
    "df_descriptors['MolWt'] = df_descriptors['MolWt'].apply(np.int64)\n",
    "df_descriptors['HeavyAtomMolWt'] = df_descriptors['HeavyAtomMolWt'].apply(np.int64)\n",
    "df_descriptors['ExactMolWt'] = df_descriptors['ExactMolWt'].apply(np.int64)"
   ]
  },
  {
   "cell_type": "code",
   "execution_count": 82,
   "id": "0a300ae9",
   "metadata": {},
   "outputs": [],
   "source": [
    "df = df.reset_index(drop=True)\n",
    "df = pd.concat([df, df_descriptors], axis = 1)"
   ]
  },
  {
   "cell_type": "code",
   "execution_count": 83,
   "id": "27730dc1",
   "metadata": {},
   "outputs": [],
   "source": [
    "from rdkit.Chem import AllChem\n",
    "def smiles_to_fingerprints(smiles_list):\n",
    "    fingerprints = []\n",
    "    for smiles in smiles_list:\n",
    "        m = Chem.MolFromSmiles(smiles)\n",
    "        if m is None:\n",
    "            continue\n",
    "        fp = AllChem.GetMorganFingerprintAsBitVect(m, 2, 2048)\n",
    "        mfpts = np.array(fp)\n",
    "        fingerprints.append(mfpts)\n",
    "    return np.array(fingerprints)"
   ]
  },
  {
   "cell_type": "code",
   "execution_count": 84,
   "id": "dd28d806",
   "metadata": {},
   "outputs": [],
   "source": [
    "chemical_Id_list = df['Chemical_Id'].to_list()"
   ]
  },
  {
   "cell_type": "code",
   "execution_count": 85,
   "id": "f799b8da",
   "metadata": {},
   "outputs": [
    {
     "name": "stderr",
     "output_type": "stream",
     "text": [
      "[15:23:21] Explicit valence for atom # 1 Si, 8, is greater than permitted\n",
      "[15:23:35] Explicit valence for atom # 1 Si, 8, is greater than permitted\n",
      "[15:23:49] Explicit valence for atom # 1 Si, 8, is greater than permitted\n",
      "[15:23:53] Explicit valence for atom # 1 Si, 8, is greater than permitted\n",
      "[15:24:07] Explicit valence for atom # 1 Si, 8, is greater than permitted\n",
      "[15:24:15] Explicit valence for atom # 1 Si, 8, is greater than permitted\n"
     ]
    }
   ],
   "source": [
    "fingerprints = smiles_to_fingerprints(chemical_Id_list)"
   ]
  },
  {
   "cell_type": "code",
   "execution_count": 86,
   "id": "fdb04e38",
   "metadata": {},
   "outputs": [],
   "source": [
    "Mfingerprints = pd.DataFrame(fingerprints,columns=['Col_{}'.format(i) for i in range(fingerprints.shape[1])])"
   ]
  },
  {
   "cell_type": "code",
   "execution_count": 87,
   "id": "2834b1ef",
   "metadata": {},
   "outputs": [
    {
     "data": {
      "text/html": [
       "<div>\n",
       "<style scoped>\n",
       "    .dataframe tbody tr th:only-of-type {\n",
       "        vertical-align: middle;\n",
       "    }\n",
       "\n",
       "    .dataframe tbody tr th {\n",
       "        vertical-align: top;\n",
       "    }\n",
       "\n",
       "    .dataframe thead th {\n",
       "        text-align: right;\n",
       "    }\n",
       "</style>\n",
       "<table border=\"1\" class=\"dataframe\">\n",
       "  <thead>\n",
       "    <tr style=\"text-align: right;\">\n",
       "      <th></th>\n",
       "      <th>Col_0</th>\n",
       "      <th>Col_1</th>\n",
       "      <th>Col_2</th>\n",
       "      <th>Col_3</th>\n",
       "      <th>Col_4</th>\n",
       "      <th>Col_5</th>\n",
       "      <th>Col_6</th>\n",
       "      <th>Col_7</th>\n",
       "      <th>Col_8</th>\n",
       "      <th>Col_9</th>\n",
       "      <th>...</th>\n",
       "      <th>Col_2038</th>\n",
       "      <th>Col_2039</th>\n",
       "      <th>Col_2040</th>\n",
       "      <th>Col_2041</th>\n",
       "      <th>Col_2042</th>\n",
       "      <th>Col_2043</th>\n",
       "      <th>Col_2044</th>\n",
       "      <th>Col_2045</th>\n",
       "      <th>Col_2046</th>\n",
       "      <th>Col_2047</th>\n",
       "    </tr>\n",
       "  </thead>\n",
       "  <tbody>\n",
       "    <tr>\n",
       "      <th>0</th>\n",
       "      <td>0</td>\n",
       "      <td>0</td>\n",
       "      <td>0</td>\n",
       "      <td>0</td>\n",
       "      <td>0</td>\n",
       "      <td>0</td>\n",
       "      <td>0</td>\n",
       "      <td>0</td>\n",
       "      <td>0</td>\n",
       "      <td>0</td>\n",
       "      <td>...</td>\n",
       "      <td>0</td>\n",
       "      <td>0</td>\n",
       "      <td>0</td>\n",
       "      <td>0</td>\n",
       "      <td>0</td>\n",
       "      <td>0</td>\n",
       "      <td>0</td>\n",
       "      <td>0</td>\n",
       "      <td>0</td>\n",
       "      <td>0</td>\n",
       "    </tr>\n",
       "    <tr>\n",
       "      <th>1</th>\n",
       "      <td>0</td>\n",
       "      <td>0</td>\n",
       "      <td>0</td>\n",
       "      <td>0</td>\n",
       "      <td>0</td>\n",
       "      <td>0</td>\n",
       "      <td>0</td>\n",
       "      <td>0</td>\n",
       "      <td>0</td>\n",
       "      <td>0</td>\n",
       "      <td>...</td>\n",
       "      <td>0</td>\n",
       "      <td>0</td>\n",
       "      <td>0</td>\n",
       "      <td>0</td>\n",
       "      <td>0</td>\n",
       "      <td>0</td>\n",
       "      <td>0</td>\n",
       "      <td>0</td>\n",
       "      <td>0</td>\n",
       "      <td>0</td>\n",
       "    </tr>\n",
       "    <tr>\n",
       "      <th>2</th>\n",
       "      <td>0</td>\n",
       "      <td>0</td>\n",
       "      <td>0</td>\n",
       "      <td>0</td>\n",
       "      <td>0</td>\n",
       "      <td>0</td>\n",
       "      <td>0</td>\n",
       "      <td>0</td>\n",
       "      <td>0</td>\n",
       "      <td>0</td>\n",
       "      <td>...</td>\n",
       "      <td>0</td>\n",
       "      <td>0</td>\n",
       "      <td>0</td>\n",
       "      <td>0</td>\n",
       "      <td>0</td>\n",
       "      <td>0</td>\n",
       "      <td>0</td>\n",
       "      <td>0</td>\n",
       "      <td>0</td>\n",
       "      <td>0</td>\n",
       "    </tr>\n",
       "    <tr>\n",
       "      <th>3</th>\n",
       "      <td>0</td>\n",
       "      <td>0</td>\n",
       "      <td>0</td>\n",
       "      <td>0</td>\n",
       "      <td>0</td>\n",
       "      <td>0</td>\n",
       "      <td>0</td>\n",
       "      <td>0</td>\n",
       "      <td>0</td>\n",
       "      <td>0</td>\n",
       "      <td>...</td>\n",
       "      <td>0</td>\n",
       "      <td>0</td>\n",
       "      <td>0</td>\n",
       "      <td>0</td>\n",
       "      <td>0</td>\n",
       "      <td>0</td>\n",
       "      <td>0</td>\n",
       "      <td>0</td>\n",
       "      <td>0</td>\n",
       "      <td>0</td>\n",
       "    </tr>\n",
       "    <tr>\n",
       "      <th>4</th>\n",
       "      <td>1</td>\n",
       "      <td>0</td>\n",
       "      <td>0</td>\n",
       "      <td>0</td>\n",
       "      <td>0</td>\n",
       "      <td>1</td>\n",
       "      <td>0</td>\n",
       "      <td>0</td>\n",
       "      <td>0</td>\n",
       "      <td>0</td>\n",
       "      <td>...</td>\n",
       "      <td>0</td>\n",
       "      <td>1</td>\n",
       "      <td>0</td>\n",
       "      <td>0</td>\n",
       "      <td>0</td>\n",
       "      <td>0</td>\n",
       "      <td>0</td>\n",
       "      <td>0</td>\n",
       "      <td>0</td>\n",
       "      <td>0</td>\n",
       "    </tr>\n",
       "    <tr>\n",
       "      <th>...</th>\n",
       "      <td>...</td>\n",
       "      <td>...</td>\n",
       "      <td>...</td>\n",
       "      <td>...</td>\n",
       "      <td>...</td>\n",
       "      <td>...</td>\n",
       "      <td>...</td>\n",
       "      <td>...</td>\n",
       "      <td>...</td>\n",
       "      <td>...</td>\n",
       "      <td>...</td>\n",
       "      <td>...</td>\n",
       "      <td>...</td>\n",
       "      <td>...</td>\n",
       "      <td>...</td>\n",
       "      <td>...</td>\n",
       "      <td>...</td>\n",
       "      <td>...</td>\n",
       "      <td>...</td>\n",
       "      <td>...</td>\n",
       "      <td>...</td>\n",
       "    </tr>\n",
       "    <tr>\n",
       "      <th>86366</th>\n",
       "      <td>0</td>\n",
       "      <td>0</td>\n",
       "      <td>0</td>\n",
       "      <td>0</td>\n",
       "      <td>0</td>\n",
       "      <td>0</td>\n",
       "      <td>0</td>\n",
       "      <td>0</td>\n",
       "      <td>0</td>\n",
       "      <td>0</td>\n",
       "      <td>...</td>\n",
       "      <td>0</td>\n",
       "      <td>0</td>\n",
       "      <td>0</td>\n",
       "      <td>0</td>\n",
       "      <td>0</td>\n",
       "      <td>0</td>\n",
       "      <td>0</td>\n",
       "      <td>0</td>\n",
       "      <td>0</td>\n",
       "      <td>0</td>\n",
       "    </tr>\n",
       "    <tr>\n",
       "      <th>86367</th>\n",
       "      <td>0</td>\n",
       "      <td>1</td>\n",
       "      <td>0</td>\n",
       "      <td>0</td>\n",
       "      <td>0</td>\n",
       "      <td>0</td>\n",
       "      <td>0</td>\n",
       "      <td>0</td>\n",
       "      <td>0</td>\n",
       "      <td>0</td>\n",
       "      <td>...</td>\n",
       "      <td>0</td>\n",
       "      <td>0</td>\n",
       "      <td>0</td>\n",
       "      <td>0</td>\n",
       "      <td>0</td>\n",
       "      <td>0</td>\n",
       "      <td>0</td>\n",
       "      <td>0</td>\n",
       "      <td>0</td>\n",
       "      <td>0</td>\n",
       "    </tr>\n",
       "    <tr>\n",
       "      <th>86368</th>\n",
       "      <td>0</td>\n",
       "      <td>0</td>\n",
       "      <td>0</td>\n",
       "      <td>0</td>\n",
       "      <td>0</td>\n",
       "      <td>0</td>\n",
       "      <td>0</td>\n",
       "      <td>0</td>\n",
       "      <td>0</td>\n",
       "      <td>0</td>\n",
       "      <td>...</td>\n",
       "      <td>1</td>\n",
       "      <td>0</td>\n",
       "      <td>0</td>\n",
       "      <td>0</td>\n",
       "      <td>0</td>\n",
       "      <td>0</td>\n",
       "      <td>0</td>\n",
       "      <td>0</td>\n",
       "      <td>0</td>\n",
       "      <td>0</td>\n",
       "    </tr>\n",
       "    <tr>\n",
       "      <th>86369</th>\n",
       "      <td>0</td>\n",
       "      <td>1</td>\n",
       "      <td>0</td>\n",
       "      <td>0</td>\n",
       "      <td>0</td>\n",
       "      <td>0</td>\n",
       "      <td>0</td>\n",
       "      <td>0</td>\n",
       "      <td>0</td>\n",
       "      <td>0</td>\n",
       "      <td>...</td>\n",
       "      <td>0</td>\n",
       "      <td>0</td>\n",
       "      <td>0</td>\n",
       "      <td>0</td>\n",
       "      <td>0</td>\n",
       "      <td>0</td>\n",
       "      <td>0</td>\n",
       "      <td>0</td>\n",
       "      <td>0</td>\n",
       "      <td>0</td>\n",
       "    </tr>\n",
       "    <tr>\n",
       "      <th>86370</th>\n",
       "      <td>0</td>\n",
       "      <td>0</td>\n",
       "      <td>0</td>\n",
       "      <td>0</td>\n",
       "      <td>0</td>\n",
       "      <td>0</td>\n",
       "      <td>0</td>\n",
       "      <td>0</td>\n",
       "      <td>0</td>\n",
       "      <td>0</td>\n",
       "      <td>...</td>\n",
       "      <td>0</td>\n",
       "      <td>0</td>\n",
       "      <td>0</td>\n",
       "      <td>0</td>\n",
       "      <td>0</td>\n",
       "      <td>0</td>\n",
       "      <td>0</td>\n",
       "      <td>0</td>\n",
       "      <td>0</td>\n",
       "      <td>0</td>\n",
       "    </tr>\n",
       "  </tbody>\n",
       "</table>\n",
       "<p>86371 rows × 2048 columns</p>\n",
       "</div>"
      ],
      "text/plain": [
       "       Col_0  Col_1  Col_2  Col_3  Col_4  Col_5  Col_6  Col_7  Col_8  Col_9  \\\n",
       "0          0      0      0      0      0      0      0      0      0      0   \n",
       "1          0      0      0      0      0      0      0      0      0      0   \n",
       "2          0      0      0      0      0      0      0      0      0      0   \n",
       "3          0      0      0      0      0      0      0      0      0      0   \n",
       "4          1      0      0      0      0      1      0      0      0      0   \n",
       "...      ...    ...    ...    ...    ...    ...    ...    ...    ...    ...   \n",
       "86366      0      0      0      0      0      0      0      0      0      0   \n",
       "86367      0      1      0      0      0      0      0      0      0      0   \n",
       "86368      0      0      0      0      0      0      0      0      0      0   \n",
       "86369      0      1      0      0      0      0      0      0      0      0   \n",
       "86370      0      0      0      0      0      0      0      0      0      0   \n",
       "\n",
       "       ...  Col_2038  Col_2039  Col_2040  Col_2041  Col_2042  Col_2043  \\\n",
       "0      ...         0         0         0         0         0         0   \n",
       "1      ...         0         0         0         0         0         0   \n",
       "2      ...         0         0         0         0         0         0   \n",
       "3      ...         0         0         0         0         0         0   \n",
       "4      ...         0         1         0         0         0         0   \n",
       "...    ...       ...       ...       ...       ...       ...       ...   \n",
       "86366  ...         0         0         0         0         0         0   \n",
       "86367  ...         0         0         0         0         0         0   \n",
       "86368  ...         1         0         0         0         0         0   \n",
       "86369  ...         0         0         0         0         0         0   \n",
       "86370  ...         0         0         0         0         0         0   \n",
       "\n",
       "       Col_2044  Col_2045  Col_2046  Col_2047  \n",
       "0             0         0         0         0  \n",
       "1             0         0         0         0  \n",
       "2             0         0         0         0  \n",
       "3             0         0         0         0  \n",
       "4             0         0         0         0  \n",
       "...         ...       ...       ...       ...  \n",
       "86366         0         0         0         0  \n",
       "86367         0         0         0         0  \n",
       "86368         0         0         0         0  \n",
       "86369         0         0         0         0  \n",
       "86370         0         0         0         0  \n",
       "\n",
       "[86371 rows x 2048 columns]"
      ]
     },
     "execution_count": 87,
     "metadata": {},
     "output_type": "execute_result"
    }
   ],
   "source": [
    "Mfingerprints"
   ]
  },
  {
   "cell_type": "code",
   "execution_count": 88,
   "id": "9be1f3a5",
   "metadata": {},
   "outputs": [
    {
     "data": {
      "text/plain": [
       "[]"
      ]
     },
     "execution_count": 88,
     "metadata": {},
     "output_type": "execute_result"
    }
   ],
   "source": [
    "Mfingerprints.columns[Mfingerprints.isnull().any()].tolist()"
   ]
  },
  {
   "cell_type": "code",
   "execution_count": 89,
   "id": "c05a3f43",
   "metadata": {},
   "outputs": [],
   "source": [
    "df = df.reset_index(drop=True)\n",
    "df = pd.concat([df, Mfingerprints], axis = 1)"
   ]
  },
  {
   "cell_type": "code",
   "execution_count": 90,
   "id": "91e8fd40",
   "metadata": {},
   "outputs": [
    {
     "data": {
      "text/html": [
       "<div>\n",
       "<style scoped>\n",
       "    .dataframe tbody tr th:only-of-type {\n",
       "        vertical-align: middle;\n",
       "    }\n",
       "\n",
       "    .dataframe tbody tr th {\n",
       "        vertical-align: top;\n",
       "    }\n",
       "\n",
       "    .dataframe thead th {\n",
       "        text-align: right;\n",
       "    }\n",
       "</style>\n",
       "<table border=\"1\" class=\"dataframe\">\n",
       "  <thead>\n",
       "    <tr style=\"text-align: right;\">\n",
       "      <th></th>\n",
       "      <th>Id</th>\n",
       "      <th>type</th>\n",
       "      <th>Expected</th>\n",
       "      <th>Chemical_Id</th>\n",
       "      <th>Assay_Id</th>\n",
       "      <th>MaxEStateIndex</th>\n",
       "      <th>MinEStateIndex</th>\n",
       "      <th>MaxAbsEStateIndex</th>\n",
       "      <th>MinAbsEStateIndex</th>\n",
       "      <th>qed</th>\n",
       "      <th>...</th>\n",
       "      <th>Col_2038</th>\n",
       "      <th>Col_2039</th>\n",
       "      <th>Col_2040</th>\n",
       "      <th>Col_2041</th>\n",
       "      <th>Col_2042</th>\n",
       "      <th>Col_2043</th>\n",
       "      <th>Col_2044</th>\n",
       "      <th>Col_2045</th>\n",
       "      <th>Col_2046</th>\n",
       "      <th>Col_2047</th>\n",
       "    </tr>\n",
       "  </thead>\n",
       "  <tbody>\n",
       "    <tr>\n",
       "      <th>0</th>\n",
       "      <td>CC1=CC(=C(C=C1)C(C)(C)C)O;1682</td>\n",
       "      <td>test</td>\n",
       "      <td>NaN</td>\n",
       "      <td>CC1=CC(=C(C=C1)C(C)(C)C)O</td>\n",
       "      <td>1682</td>\n",
       "      <td>8</td>\n",
       "      <td>-3</td>\n",
       "      <td>8</td>\n",
       "      <td>1</td>\n",
       "      <td>0</td>\n",
       "      <td>...</td>\n",
       "      <td>0.0</td>\n",
       "      <td>0.0</td>\n",
       "      <td>0.0</td>\n",
       "      <td>0.0</td>\n",
       "      <td>0.0</td>\n",
       "      <td>0.0</td>\n",
       "      <td>0.0</td>\n",
       "      <td>0.0</td>\n",
       "      <td>0.0</td>\n",
       "      <td>0.0</td>\n",
       "    </tr>\n",
       "    <tr>\n",
       "      <th>1</th>\n",
       "      <td>CCS(=O)(=O)C1=C(N=CC=C1)S(=O)(=O)NC(=O)NC2=NC(...</td>\n",
       "      <td>test</td>\n",
       "      <td>NaN</td>\n",
       "      <td>CCS(=O)(=O)C1=C(N=CC=C1)S(=O)(=O)NC(=O)NC2=NC(...</td>\n",
       "      <td>1656</td>\n",
       "      <td>13</td>\n",
       "      <td>-6</td>\n",
       "      <td>13</td>\n",
       "      <td>0</td>\n",
       "      <td>0</td>\n",
       "      <td>...</td>\n",
       "      <td>0.0</td>\n",
       "      <td>0.0</td>\n",
       "      <td>0.0</td>\n",
       "      <td>0.0</td>\n",
       "      <td>0.0</td>\n",
       "      <td>0.0</td>\n",
       "      <td>0.0</td>\n",
       "      <td>0.0</td>\n",
       "      <td>0.0</td>\n",
       "      <td>0.0</td>\n",
       "    </tr>\n",
       "    <tr>\n",
       "      <th>2</th>\n",
       "      <td>CC1=NC2=CC=CC=C2N1C3CC4CCC(C3)N4CCC5(CCN(CC5)C...</td>\n",
       "      <td>test</td>\n",
       "      <td>NaN</td>\n",
       "      <td>CC1=NC2=CC=CC=C2N1C3CC4CCC(C3)N4CCC5(CCN(CC5)C...</td>\n",
       "      <td>36</td>\n",
       "      <td>16</td>\n",
       "      <td>-6</td>\n",
       "      <td>16</td>\n",
       "      <td>0</td>\n",
       "      <td>0</td>\n",
       "      <td>...</td>\n",
       "      <td>0.0</td>\n",
       "      <td>0.0</td>\n",
       "      <td>0.0</td>\n",
       "      <td>0.0</td>\n",
       "      <td>0.0</td>\n",
       "      <td>0.0</td>\n",
       "      <td>0.0</td>\n",
       "      <td>0.0</td>\n",
       "      <td>0.0</td>\n",
       "      <td>0.0</td>\n",
       "    </tr>\n",
       "    <tr>\n",
       "      <th>3</th>\n",
       "      <td>CC1=CC(=O)[N-]S(=O)(=O)O1.[K+];1850</td>\n",
       "      <td>test</td>\n",
       "      <td>NaN</td>\n",
       "      <td>CC1=CC(=O)[N-]S(=O)(=O)O1.[K+]</td>\n",
       "      <td>1850</td>\n",
       "      <td>10</td>\n",
       "      <td>-4</td>\n",
       "      <td>10</td>\n",
       "      <td>0</td>\n",
       "      <td>0</td>\n",
       "      <td>...</td>\n",
       "      <td>0.0</td>\n",
       "      <td>0.0</td>\n",
       "      <td>0.0</td>\n",
       "      <td>0.0</td>\n",
       "      <td>0.0</td>\n",
       "      <td>0.0</td>\n",
       "      <td>0.0</td>\n",
       "      <td>0.0</td>\n",
       "      <td>0.0</td>\n",
       "      <td>0.0</td>\n",
       "    </tr>\n",
       "    <tr>\n",
       "      <th>4</th>\n",
       "      <td>CCC(C)(C)C(=O)O[C@H]1C[C@H](C=C2[C@H]1[C@H]([C...</td>\n",
       "      <td>test</td>\n",
       "      <td>NaN</td>\n",
       "      <td>CCC(C)(C)C(=O)O[C@H]1C[C@H](C=C2[C@H]1[C@H]([C...</td>\n",
       "      <td>30</td>\n",
       "      <td>14</td>\n",
       "      <td>-5</td>\n",
       "      <td>14</td>\n",
       "      <td>2</td>\n",
       "      <td>0</td>\n",
       "      <td>...</td>\n",
       "      <td>0.0</td>\n",
       "      <td>1.0</td>\n",
       "      <td>0.0</td>\n",
       "      <td>0.0</td>\n",
       "      <td>0.0</td>\n",
       "      <td>0.0</td>\n",
       "      <td>0.0</td>\n",
       "      <td>0.0</td>\n",
       "      <td>0.0</td>\n",
       "      <td>0.0</td>\n",
       "    </tr>\n",
       "  </tbody>\n",
       "</table>\n",
       "<p>5 rows × 2261 columns</p>\n",
       "</div>"
      ],
      "text/plain": [
       "                                                  Id  type  Expected  \\\n",
       "0                     CC1=CC(=C(C=C1)C(C)(C)C)O;1682  test       NaN   \n",
       "1  CCS(=O)(=O)C1=C(N=CC=C1)S(=O)(=O)NC(=O)NC2=NC(...  test       NaN   \n",
       "2  CC1=NC2=CC=CC=C2N1C3CC4CCC(C3)N4CCC5(CCN(CC5)C...  test       NaN   \n",
       "3                CC1=CC(=O)[N-]S(=O)(=O)O1.[K+];1850  test       NaN   \n",
       "4  CCC(C)(C)C(=O)O[C@H]1C[C@H](C=C2[C@H]1[C@H]([C...  test       NaN   \n",
       "\n",
       "                                         Chemical_Id Assay_Id  MaxEStateIndex  \\\n",
       "0                          CC1=CC(=C(C=C1)C(C)(C)C)O     1682               8   \n",
       "1  CCS(=O)(=O)C1=C(N=CC=C1)S(=O)(=O)NC(=O)NC2=NC(...     1656              13   \n",
       "2  CC1=NC2=CC=CC=C2N1C3CC4CCC(C3)N4CCC5(CCN(CC5)C...       36              16   \n",
       "3                     CC1=CC(=O)[N-]S(=O)(=O)O1.[K+]     1850              10   \n",
       "4  CCC(C)(C)C(=O)O[C@H]1C[C@H](C=C2[C@H]1[C@H]([C...       30              14   \n",
       "\n",
       "   MinEStateIndex  MaxAbsEStateIndex  MinAbsEStateIndex  qed  ...  Col_2038  \\\n",
       "0              -3                  8                  1    0  ...       0.0   \n",
       "1              -6                 13                  0    0  ...       0.0   \n",
       "2              -6                 16                  0    0  ...       0.0   \n",
       "3              -4                 10                  0    0  ...       0.0   \n",
       "4              -5                 14                  2    0  ...       0.0   \n",
       "\n",
       "   Col_2039  Col_2040  Col_2041  Col_2042  Col_2043  Col_2044  Col_2045  \\\n",
       "0       0.0       0.0       0.0       0.0       0.0       0.0       0.0   \n",
       "1       0.0       0.0       0.0       0.0       0.0       0.0       0.0   \n",
       "2       0.0       0.0       0.0       0.0       0.0       0.0       0.0   \n",
       "3       0.0       0.0       0.0       0.0       0.0       0.0       0.0   \n",
       "4       1.0       0.0       0.0       0.0       0.0       0.0       0.0   \n",
       "\n",
       "   Col_2046  Col_2047  \n",
       "0       0.0       0.0  \n",
       "1       0.0       0.0  \n",
       "2       0.0       0.0  \n",
       "3       0.0       0.0  \n",
       "4       0.0       0.0  \n",
       "\n",
       "[5 rows x 2261 columns]"
      ]
     },
     "execution_count": 90,
     "metadata": {},
     "output_type": "execute_result"
    }
   ],
   "source": [
    "df.head()"
   ]
  },
  {
   "cell_type": "code",
   "execution_count": 19,
   "id": "52c6a2d2",
   "metadata": {},
   "outputs": [
    {
     "data": {
      "text/plain": [
       "(75383, 213)"
      ]
     },
     "execution_count": 19,
     "metadata": {},
     "output_type": "execute_result"
    }
   ],
   "source": [
    "train = df[df[\"type\"] == \"train\"]\n",
    "train.shape"
   ]
  },
  {
   "cell_type": "code",
   "execution_count": 20,
   "id": "9c18239d",
   "metadata": {},
   "outputs": [
    {
     "data": {
      "text/plain": [
       "[]"
      ]
     },
     "execution_count": 20,
     "metadata": {},
     "output_type": "execute_result"
    }
   ],
   "source": [
    "train.columns[train.isnull().any()].tolist()"
   ]
  },
  {
   "cell_type": "code",
   "execution_count": 21,
   "id": "367d0f62",
   "metadata": {},
   "outputs": [
    {
     "name": "stderr",
     "output_type": "stream",
     "text": [
      "C:\\Users\\sheel\\AppData\\Local\\Temp\\ipykernel_5456\\2180937954.py:2: FutureWarning: The default value of numeric_only in DataFrame.mean is deprecated. In a future version, it will default to False. In addition, specifying 'numeric_only=None' is deprecated. Select only valid columns or specify the value of numeric_only to silence this warning.\n",
      "  train = train.fillna(train.mean())\n"
     ]
    }
   ],
   "source": [
    "train = train.replace([np.inf, -np.inf], np.nan)\n",
    "train = train.fillna(train.mean())"
   ]
  },
  {
   "cell_type": "code",
   "execution_count": 23,
   "id": "28cc2a9b",
   "metadata": {},
   "outputs": [
    {
     "data": {
      "text/plain": [
       "[]"
      ]
     },
     "execution_count": 23,
     "metadata": {},
     "output_type": "execute_result"
    }
   ],
   "source": [
    "train.columns[train.isnull().any()].tolist()"
   ]
  },
  {
   "cell_type": "code",
   "execution_count": 24,
   "id": "5a730307",
   "metadata": {},
   "outputs": [
    {
     "data": {
      "text/plain": [
       "(10994, 213)"
      ]
     },
     "execution_count": 24,
     "metadata": {},
     "output_type": "execute_result"
    }
   ],
   "source": [
    "test = df[df[\"type\"] == \"test\"]\n",
    "test.shape"
   ]
  },
  {
   "cell_type": "code",
   "execution_count": 25,
   "id": "dceef795",
   "metadata": {},
   "outputs": [
    {
     "data": {
      "text/plain": [
       "['Expected']"
      ]
     },
     "execution_count": 25,
     "metadata": {},
     "output_type": "execute_result"
    }
   ],
   "source": [
    "test.columns[test.isnull().any()].tolist()"
   ]
  },
  {
   "cell_type": "code",
   "execution_count": 28,
   "id": "25bc58c9",
   "metadata": {},
   "outputs": [
    {
     "data": {
      "text/plain": [
       "(75383, 5)"
      ]
     },
     "execution_count": 28,
     "metadata": {},
     "output_type": "execute_result"
    }
   ],
   "source": [
    "train_X = train[['Assay_Id', 'MaxEStateIndex', 'MinEStateIndex', 'MaxAbsEStateIndex', 'MinAbsEStateIndex']]\n",
    "train_X.shape"
   ]
  },
  {
   "cell_type": "code",
   "execution_count": 29,
   "id": "cbf32d12",
   "metadata": {},
   "outputs": [
    {
     "data": {
      "text/plain": [
       "(10994, 5)"
      ]
     },
     "execution_count": 29,
     "metadata": {},
     "output_type": "execute_result"
    }
   ],
   "source": [
    "test_X = test[['Assay_Id', 'MaxEStateIndex', 'MinEStateIndex', 'MaxAbsEStateIndex', 'MinAbsEStateIndex']]\n",
    "test_X.shape"
   ]
  },
  {
   "cell_type": "code",
   "execution_count": 30,
   "id": "45ed25e8",
   "metadata": {},
   "outputs": [
    {
     "data": {
      "text/plain": [
       "(75383,)"
      ]
     },
     "execution_count": 30,
     "metadata": {},
     "output_type": "execute_result"
    }
   ],
   "source": [
    "train_Y = train[\"Expected\"]\n",
    "train_Y.shape"
   ]
  },
  {
   "cell_type": "code",
   "execution_count": 31,
   "id": "6f200cac",
   "metadata": {},
   "outputs": [
    {
     "name": "stderr",
     "output_type": "stream",
     "text": [
      "C:\\Users\\sheel\\AppData\\Local\\Temp\\ipykernel_5456\\2723493689.py:1: SettingWithCopyWarning: \n",
      "A value is trying to be set on a copy of a slice from a DataFrame.\n",
      "Try using .loc[row_indexer,col_indexer] = value instead\n",
      "\n",
      "See the caveats in the documentation: https://pandas.pydata.org/pandas-docs/stable/user_guide/indexing.html#returning-a-view-versus-a-copy\n",
      "  test_X['Assay_Id'] = test_X['Assay_Id'].astype(str).astype(float).astype(int)\n",
      "C:\\Users\\sheel\\AppData\\Local\\Temp\\ipykernel_5456\\2723493689.py:2: SettingWithCopyWarning: \n",
      "A value is trying to be set on a copy of a slice from a DataFrame.\n",
      "Try using .loc[row_indexer,col_indexer] = value instead\n",
      "\n",
      "See the caveats in the documentation: https://pandas.pydata.org/pandas-docs/stable/user_guide/indexing.html#returning-a-view-versus-a-copy\n",
      "  train_X['Assay_Id'] = train_X['Assay_Id'].astype(str).astype(float).astype(int)\n"
     ]
    }
   ],
   "source": [
    "test_X['Assay_Id'] = test_X['Assay_Id'].astype(str).astype(float).astype(int)\n",
    "train_X['Assay_Id'] = train_X['Assay_Id'].astype(str).astype(float).astype(int)"
   ]
  },
  {
   "cell_type": "code",
   "execution_count": 32,
   "id": "84e0e7e7",
   "metadata": {},
   "outputs": [],
   "source": [
    "train_Y = train_Y.astype(int)"
   ]
  },
  {
   "cell_type": "code",
   "execution_count": 33,
   "id": "f49e6a89",
   "metadata": {},
   "outputs": [
    {
     "data": {
      "text/plain": [
       "[]"
      ]
     },
     "execution_count": 33,
     "metadata": {},
     "output_type": "execute_result"
    }
   ],
   "source": [
    "train_X.columns[train_X.isnull().any()].tolist()"
   ]
  },
  {
   "cell_type": "code",
   "execution_count": 34,
   "id": "93320838",
   "metadata": {},
   "outputs": [
    {
     "data": {
      "text/plain": [
       "[]"
      ]
     },
     "execution_count": 34,
     "metadata": {},
     "output_type": "execute_result"
    }
   ],
   "source": [
    "test_X.columns[test_X.isnull().any()].tolist()"
   ]
  },
  {
   "cell_type": "code",
   "execution_count": 35,
   "id": "e1d9a49d",
   "metadata": {},
   "outputs": [],
   "source": [
    "from sklearn.impute import SimpleImputer\n",
    "imp = SimpleImputer(missing_values=np.nan, strategy='mean')\n",
    "imp = imp.fit(train_X)\n",
    "train_X_imp = imp.transform(train_X)"
   ]
  },
  {
   "cell_type": "code",
   "execution_count": 36,
   "id": "de4784e6",
   "metadata": {},
   "outputs": [],
   "source": [
    "imp = SimpleImputer(missing_values=np.nan, strategy='mean')\n",
    "imp = imp.fit(test_X)\n",
    "test_X_imp = imp.transform(test_X)"
   ]
  },
  {
   "cell_type": "code",
   "execution_count": 37,
   "id": "de97dbd8",
   "metadata": {},
   "outputs": [],
   "source": [
    "from sklearn.model_selection import train_test_split\n",
    "X_train, X_test, Y_train, Y_test = train_test_split(train_X, train_Y, test_size=0.2, random_state=0)"
   ]
  },
  {
   "cell_type": "code",
   "execution_count": 38,
   "id": "fc9b4520",
   "metadata": {},
   "outputs": [
    {
     "data": {
      "text/plain": [
       "False"
      ]
     },
     "execution_count": 38,
     "metadata": {},
     "output_type": "execute_result"
    }
   ],
   "source": [
    "np.any(np.isnan(X_train))"
   ]
  },
  {
   "cell_type": "code",
   "execution_count": 39,
   "id": "ad6c0d4a",
   "metadata": {},
   "outputs": [
    {
     "data": {
      "text/plain": [
       "True"
      ]
     },
     "execution_count": 39,
     "metadata": {},
     "output_type": "execute_result"
    }
   ],
   "source": [
    "np.all(np.isfinite(X_train))"
   ]
  },
  {
   "cell_type": "code",
   "execution_count": 40,
   "id": "b2e17d24",
   "metadata": {},
   "outputs": [],
   "source": [
    "# from sklearn.ensemble import HistGradientBoostingClassifier\n",
    "# clf = HistGradientBoostingClassifier(learning_rate=0.1, max_depth=8, random_state=11)\n",
    "# clf.fit(X_train, Y_train)"
   ]
  },
  {
   "cell_type": "code",
   "execution_count": 44,
   "id": "1e8fe59a",
   "metadata": {},
   "outputs": [
    {
     "name": "stdout",
     "output_type": "stream",
     "text": [
      "Accuracy:  86.27711083106718 %\n"
     ]
    }
   ],
   "source": [
    "# from sklearn.ensemble import RandomForestClassifier\n",
    "# from sklearn.metrics import accuracy_score\n",
    "# # RandomForestClassifier\n",
    "# clf = RandomForestClassifier(random_state=42)\n",
    "# clf.fit(X_train, Y_train)\n",
    "# pred = clf.predict(X_test)\n",
    "# print(\"Accuracy: \", accuracy_score(Y_test, pred)*100, \"%\")"
   ]
  },
  {
   "cell_type": "code",
   "execution_count": 55,
   "id": "6a413e46",
   "metadata": {},
   "outputs": [],
   "source": [
    "# Define mapping dictionary\n",
    "mapping = {1: 0, 2: 1}"
   ]
  },
  {
   "cell_type": "code",
   "execution_count": 57,
   "id": "5bbb26fb",
   "metadata": {},
   "outputs": [],
   "source": [
    "Y_train = Y_train.map(lambda x: mapping.get(x, x))"
   ]
  },
  {
   "cell_type": "code",
   "execution_count": 58,
   "id": "d65c9f58",
   "metadata": {},
   "outputs": [],
   "source": [
    "# Y_train['Expected'] = Y_train['Expected'].map(1:0, 2:1)"
   ]
  },
  {
   "cell_type": "code",
   "execution_count": 59,
   "id": "27f6bbc2",
   "metadata": {},
   "outputs": [
    {
     "name": "stdout",
     "output_type": "stream",
     "text": [
      "Accuracy:  9.305564767526695 %\n"
     ]
    }
   ],
   "source": [
    "from xgboost import XGBClassifier\n",
    "from sklearn.metrics import accuracy_score\n",
    "#XGBClassifier\n",
    "clf = XGBClassifier(max_depth = 8,n_estimators = 500, random_state = 11)\n",
    "clf.fit(X_train, Y_train)\n",
    "pred = clf.predict(X_test)\n",
    "print(\"Accuracy: \", accuracy_score(Y_test, pred)*100, \"%\")"
   ]
  },
  {
   "cell_type": "code",
   "execution_count": 60,
   "id": "de415ed9",
   "metadata": {},
   "outputs": [
    {
     "name": "stdout",
     "output_type": "stream",
     "text": [
      "0.8998607103770769\n"
     ]
    }
   ],
   "source": [
    "pred = clf.predict(X_test)\n",
    "acc_score = clf.score(X_train,Y_train)\n",
    "print(acc_score)"
   ]
  },
  {
   "cell_type": "code",
   "execution_count": 61,
   "id": "8f264bc9",
   "metadata": {},
   "outputs": [
    {
     "name": "stdout",
     "output_type": "stream",
     "text": [
      "[1 1 1 ... 1 1 1]\n"
     ]
    }
   ],
   "source": [
    "prd = clf.predict(test_X)\n",
    "print(prd)\n",
    "#prd1 = [int(s) for s in prd]"
   ]
  },
  {
   "cell_type": "code",
   "execution_count": 64,
   "id": "b0c26130",
   "metadata": {},
   "outputs": [
    {
     "name": "stdout",
     "output_type": "stream",
     "text": [
      "[2 2 2 ... 2 2 2]\n"
     ]
    }
   ],
   "source": [
    "arr = np.array(prd)\n",
    "\n",
    "# Define mapping function\n",
    "def transform_data(x):\n",
    "    if x == 0:\n",
    "        return 1\n",
    "    elif x == 1:\n",
    "        return 2\n",
    "    else:\n",
    "        return x\n",
    "\n",
    "# Use vectorize() to apply mapping function to each element of array\n",
    "mapped_arr = np.vectorize(transform_data)(arr)\n",
    "print(mapped_arr)"
   ]
  },
  {
   "cell_type": "code",
   "execution_count": 67,
   "id": "9b28f2f4",
   "metadata": {},
   "outputs": [],
   "source": [
    "op = test_data[[\"Id\"]]\n",
    "op['Predicted'] = mapped_arr\n",
    "op.to_csv(\"Output.csv\", index=False)"
   ]
  },
  {
   "cell_type": "code",
   "execution_count": null,
   "id": "f5dcf84c",
   "metadata": {},
   "outputs": [],
   "source": []
  }
 ],
 "metadata": {
  "kernelspec": {
   "display_name": "Python 3 (ipykernel)",
   "language": "python",
   "name": "python3"
  },
  "language_info": {
   "codemirror_mode": {
    "name": "ipython",
    "version": 3
   },
   "file_extension": ".py",
   "mimetype": "text/x-python",
   "name": "python",
   "nbconvert_exporter": "python",
   "pygments_lexer": "ipython3",
   "version": "3.10.7"
  }
 },
 "nbformat": 4,
 "nbformat_minor": 5
}
