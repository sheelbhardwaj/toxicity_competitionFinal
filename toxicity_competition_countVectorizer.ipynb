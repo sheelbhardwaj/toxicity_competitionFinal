{
 "cells": [
  {
   "cell_type": "code",
   "execution_count": 1,
   "metadata": {
    "colab": {
     "base_uri": "https://localhost:8080/",
     "height": 142
    },
    "id": "NCeljJAfhPWW",
    "outputId": "82bf4255-6fff-489a-c3af-618f20cfd1f7"
   },
   "outputs": [],
   "source": [
    "#import important libraries\n",
    "import pandas as pd\n",
    "import numpy as np\n",
    "import matplotlib as mlt"
   ]
  },
  {
   "cell_type": "code",
   "execution_count": 2,
   "metadata": {
    "id": "Pc2dIs_vhcG7"
   },
   "outputs": [],
   "source": [
    "#read the csv files for train and test data respectively\n",
    "train_data = pd.read_csv('train_II.csv')\n",
    "test_data = pd.read_csv('test_II.csv')"
   ]
  },
  {
   "cell_type": "code",
   "execution_count": 3,
   "metadata": {
    "id": "ZGr8RRzdQbnf"
   },
   "outputs": [],
   "source": [
    "#checking structure of submission file\n",
    "sub_data = pd.read_csv('sample_submission.csv')"
   ]
  },
  {
   "cell_type": "code",
   "execution_count": 4,
   "metadata": {
    "colab": {
     "base_uri": "https://localhost:8080/"
    },
    "id": "kMxxhRhRQbsN",
    "outputId": "f1930552-9127-4760-c407-4f6f787be063"
   },
   "outputs": [
    {
     "name": "stdout",
     "output_type": "stream",
     "text": [
      "<class 'pandas.core.frame.DataFrame'>\n",
      "RangeIndex: 10994 entries, 0 to 10993\n",
      "Data columns (total 2 columns):\n",
      " #   Column     Non-Null Count  Dtype \n",
      "---  ------     --------------  ----- \n",
      " 0   Id         10994 non-null  object\n",
      " 1   Predicted  10994 non-null  int64 \n",
      "dtypes: int64(1), object(1)\n",
      "memory usage: 171.9+ KB\n"
     ]
    }
   ],
   "source": [
    "sub_data.info()"
   ]
  },
  {
   "cell_type": "code",
   "execution_count": 5,
   "metadata": {
    "colab": {
     "base_uri": "https://localhost:8080/",
     "height": 206
    },
    "id": "ijpcCTOShk3p",
    "outputId": "3ced80ff-0a1f-432c-ad6f-80563a8c74d0"
   },
   "outputs": [
    {
     "data": {
      "text/html": [
       "<div>\n",
       "<style scoped>\n",
       "    .dataframe tbody tr th:only-of-type {\n",
       "        vertical-align: middle;\n",
       "    }\n",
       "\n",
       "    .dataframe tbody tr th {\n",
       "        vertical-align: top;\n",
       "    }\n",
       "\n",
       "    .dataframe thead th {\n",
       "        text-align: right;\n",
       "    }\n",
       "</style>\n",
       "<table border=\"1\" class=\"dataframe\">\n",
       "  <thead>\n",
       "    <tr style=\"text-align: right;\">\n",
       "      <th></th>\n",
       "      <th>Id</th>\n",
       "    </tr>\n",
       "  </thead>\n",
       "  <tbody>\n",
       "    <tr>\n",
       "      <th>0</th>\n",
       "      <td>CC1=CC(=C(C=C1)C(C)(C)C)O;1682</td>\n",
       "    </tr>\n",
       "    <tr>\n",
       "      <th>1</th>\n",
       "      <td>CCS(=O)(=O)C1=C(N=CC=C1)S(=O)(=O)NC(=O)NC2=NC(...</td>\n",
       "    </tr>\n",
       "    <tr>\n",
       "      <th>2</th>\n",
       "      <td>CC1=NC2=CC=CC=C2N1C3CC4CCC(C3)N4CCC5(CCN(CC5)C...</td>\n",
       "    </tr>\n",
       "    <tr>\n",
       "      <th>3</th>\n",
       "      <td>CC1=CC(=O)[N-]S(=O)(=O)O1.[K+];1850</td>\n",
       "    </tr>\n",
       "    <tr>\n",
       "      <th>4</th>\n",
       "      <td>CCC(C)(C)C(=O)O[C@H]1C[C@H](C=C2[C@H]1[C@H]([C...</td>\n",
       "    </tr>\n",
       "  </tbody>\n",
       "</table>\n",
       "</div>"
      ],
      "text/plain": [
       "                                                  Id\n",
       "0                     CC1=CC(=C(C=C1)C(C)(C)C)O;1682\n",
       "1  CCS(=O)(=O)C1=C(N=CC=C1)S(=O)(=O)NC(=O)NC2=NC(...\n",
       "2  CC1=NC2=CC=CC=C2N1C3CC4CCC(C3)N4CCC5(CCN(CC5)C...\n",
       "3                CC1=CC(=O)[N-]S(=O)(=O)O1.[K+];1850\n",
       "4  CCC(C)(C)C(=O)O[C@H]1C[C@H](C=C2[C@H]1[C@H]([C..."
      ]
     },
     "execution_count": 5,
     "metadata": {},
     "output_type": "execute_result"
    }
   ],
   "source": [
    "#change the column name x to Id in test data set to maintain consistency\n",
    "test_data = test_data.rename(columns = {\"x\": \"Id\"})\n",
    "test_data.head()"
   ]
  },
  {
   "cell_type": "code",
   "execution_count": 6,
   "metadata": {
    "id": "AwbZvGv7hmkb"
   },
   "outputs": [],
   "source": [
    "test_data['type'] = \"test\"\n",
    "train_data['type'] = \"train\""
   ]
  },
  {
   "cell_type": "code",
   "execution_count": 7,
   "metadata": {
    "colab": {
     "base_uri": "https://localhost:8080/",
     "height": 206
    },
    "id": "JrDtr0_ciPxC",
    "outputId": "e6f8e6a7-04e4-456d-ac42-2b6dd6fd9827"
   },
   "outputs": [
    {
     "data": {
      "text/html": [
       "<div>\n",
       "<style scoped>\n",
       "    .dataframe tbody tr th:only-of-type {\n",
       "        vertical-align: middle;\n",
       "    }\n",
       "\n",
       "    .dataframe tbody tr th {\n",
       "        vertical-align: top;\n",
       "    }\n",
       "\n",
       "    .dataframe thead th {\n",
       "        text-align: right;\n",
       "    }\n",
       "</style>\n",
       "<table border=\"1\" class=\"dataframe\">\n",
       "  <thead>\n",
       "    <tr style=\"text-align: right;\">\n",
       "      <th></th>\n",
       "      <th>Id</th>\n",
       "      <th>type</th>\n",
       "      <th>Expected</th>\n",
       "    </tr>\n",
       "  </thead>\n",
       "  <tbody>\n",
       "    <tr>\n",
       "      <th>0</th>\n",
       "      <td>CC1=CC(=C(C=C1)C(C)(C)C)O;1682</td>\n",
       "      <td>test</td>\n",
       "      <td>NaN</td>\n",
       "    </tr>\n",
       "    <tr>\n",
       "      <th>1</th>\n",
       "      <td>CCS(=O)(=O)C1=C(N=CC=C1)S(=O)(=O)NC(=O)NC2=NC(...</td>\n",
       "      <td>test</td>\n",
       "      <td>NaN</td>\n",
       "    </tr>\n",
       "    <tr>\n",
       "      <th>2</th>\n",
       "      <td>CC1=NC2=CC=CC=C2N1C3CC4CCC(C3)N4CCC5(CCN(CC5)C...</td>\n",
       "      <td>test</td>\n",
       "      <td>NaN</td>\n",
       "    </tr>\n",
       "    <tr>\n",
       "      <th>3</th>\n",
       "      <td>CC1=CC(=O)[N-]S(=O)(=O)O1.[K+];1850</td>\n",
       "      <td>test</td>\n",
       "      <td>NaN</td>\n",
       "    </tr>\n",
       "    <tr>\n",
       "      <th>4</th>\n",
       "      <td>CCC(C)(C)C(=O)O[C@H]1C[C@H](C=C2[C@H]1[C@H]([C...</td>\n",
       "      <td>test</td>\n",
       "      <td>NaN</td>\n",
       "    </tr>\n",
       "  </tbody>\n",
       "</table>\n",
       "</div>"
      ],
      "text/plain": [
       "                                                  Id  type  Expected\n",
       "0                     CC1=CC(=C(C=C1)C(C)(C)C)O;1682  test       NaN\n",
       "1  CCS(=O)(=O)C1=C(N=CC=C1)S(=O)(=O)NC(=O)NC2=NC(...  test       NaN\n",
       "2  CC1=NC2=CC=CC=C2N1C3CC4CCC(C3)N4CCC5(CCN(CC5)C...  test       NaN\n",
       "3                CC1=CC(=O)[N-]S(=O)(=O)O1.[K+];1850  test       NaN\n",
       "4  CCC(C)(C)C(=O)O[C@H]1C[C@H](C=C2[C@H]1[C@H]([C...  test       NaN"
      ]
     },
     "execution_count": 7,
     "metadata": {},
     "output_type": "execute_result"
    }
   ],
   "source": [
    "df = pd.concat([test_data, train_data])\n",
    "df.head()"
   ]
  },
  {
   "cell_type": "code",
   "execution_count": 8,
   "metadata": {
    "colab": {
     "base_uri": "https://localhost:8080/",
     "height": 206
    },
    "id": "M7qUiIOYifka",
    "outputId": "6ddfee4a-4f1b-4a0a-ecf5-fb31faba78d6"
   },
   "outputs": [
    {
     "data": {
      "text/html": [
       "<div>\n",
       "<style scoped>\n",
       "    .dataframe tbody tr th:only-of-type {\n",
       "        vertical-align: middle;\n",
       "    }\n",
       "\n",
       "    .dataframe tbody tr th {\n",
       "        vertical-align: top;\n",
       "    }\n",
       "\n",
       "    .dataframe thead th {\n",
       "        text-align: right;\n",
       "    }\n",
       "</style>\n",
       "<table border=\"1\" class=\"dataframe\">\n",
       "  <thead>\n",
       "    <tr style=\"text-align: right;\">\n",
       "      <th></th>\n",
       "      <th>Id</th>\n",
       "      <th>type</th>\n",
       "      <th>Expected</th>\n",
       "      <th>Chemical_Id</th>\n",
       "      <th>Assay_Id</th>\n",
       "    </tr>\n",
       "  </thead>\n",
       "  <tbody>\n",
       "    <tr>\n",
       "      <th>0</th>\n",
       "      <td>CC1=CC(=C(C=C1)C(C)(C)C)O;1682</td>\n",
       "      <td>test</td>\n",
       "      <td>NaN</td>\n",
       "      <td>CC1=CC(=C(C=C1)C(C)(C)C)O</td>\n",
       "      <td>1682</td>\n",
       "    </tr>\n",
       "    <tr>\n",
       "      <th>1</th>\n",
       "      <td>CCS(=O)(=O)C1=C(N=CC=C1)S(=O)(=O)NC(=O)NC2=NC(...</td>\n",
       "      <td>test</td>\n",
       "      <td>NaN</td>\n",
       "      <td>CCS(=O)(=O)C1=C(N=CC=C1)S(=O)(=O)NC(=O)NC2=NC(...</td>\n",
       "      <td>1656</td>\n",
       "    </tr>\n",
       "    <tr>\n",
       "      <th>2</th>\n",
       "      <td>CC1=NC2=CC=CC=C2N1C3CC4CCC(C3)N4CCC5(CCN(CC5)C...</td>\n",
       "      <td>test</td>\n",
       "      <td>NaN</td>\n",
       "      <td>CC1=NC2=CC=CC=C2N1C3CC4CCC(C3)N4CCC5(CCN(CC5)C...</td>\n",
       "      <td>36</td>\n",
       "    </tr>\n",
       "    <tr>\n",
       "      <th>3</th>\n",
       "      <td>CC1=CC(=O)[N-]S(=O)(=O)O1.[K+];1850</td>\n",
       "      <td>test</td>\n",
       "      <td>NaN</td>\n",
       "      <td>CC1=CC(=O)[N-]S(=O)(=O)O1.[K+]</td>\n",
       "      <td>1850</td>\n",
       "    </tr>\n",
       "    <tr>\n",
       "      <th>4</th>\n",
       "      <td>CCC(C)(C)C(=O)O[C@H]1C[C@H](C=C2[C@H]1[C@H]([C...</td>\n",
       "      <td>test</td>\n",
       "      <td>NaN</td>\n",
       "      <td>CCC(C)(C)C(=O)O[C@H]1C[C@H](C=C2[C@H]1[C@H]([C...</td>\n",
       "      <td>30</td>\n",
       "    </tr>\n",
       "  </tbody>\n",
       "</table>\n",
       "</div>"
      ],
      "text/plain": [
       "                                                  Id  type  Expected  \\\n",
       "0                     CC1=CC(=C(C=C1)C(C)(C)C)O;1682  test       NaN   \n",
       "1  CCS(=O)(=O)C1=C(N=CC=C1)S(=O)(=O)NC(=O)NC2=NC(...  test       NaN   \n",
       "2  CC1=NC2=CC=CC=C2N1C3CC4CCC(C3)N4CCC5(CCN(CC5)C...  test       NaN   \n",
       "3                CC1=CC(=O)[N-]S(=O)(=O)O1.[K+];1850  test       NaN   \n",
       "4  CCC(C)(C)C(=O)O[C@H]1C[C@H](C=C2[C@H]1[C@H]([C...  test       NaN   \n",
       "\n",
       "                                         Chemical_Id Assay_Id  \n",
       "0                          CC1=CC(=C(C=C1)C(C)(C)C)O     1682  \n",
       "1  CCS(=O)(=O)C1=C(N=CC=C1)S(=O)(=O)NC(=O)NC2=NC(...     1656  \n",
       "2  CC1=NC2=CC=CC=C2N1C3CC4CCC(C3)N4CCC5(CCN(CC5)C...       36  \n",
       "3                     CC1=CC(=O)[N-]S(=O)(=O)O1.[K+]     1850  \n",
       "4  CCC(C)(C)C(=O)O[C@H]1C[C@H](C=C2[C@H]1[C@H]([C...       30  "
      ]
     },
     "execution_count": 8,
     "metadata": {},
     "output_type": "execute_result"
    }
   ],
   "source": [
    "#divide the column ID into two different columns namely assay Id and chemical ID\n",
    "df[[\"Chemical_Id\", \"Assay_Id\"]] = df.Id.str.split(\";\", expand = True)\n",
    "df.head()"
   ]
  },
  {
   "cell_type": "code",
   "execution_count": 9,
   "metadata": {
    "colab": {
     "base_uri": "https://localhost:8080/"
    },
    "id": "AkOcyF18iwc5",
    "outputId": "377a6022-1ee9-4ca4-b09b-026fbab8368e"
   },
   "outputs": [
    {
     "name": "stdout",
     "output_type": "stream",
     "text": [
      "<class 'pandas.core.frame.DataFrame'>\n",
      "Int64Index: 86377 entries, 0 to 75382\n",
      "Data columns (total 5 columns):\n",
      " #   Column       Non-Null Count  Dtype  \n",
      "---  ------       --------------  -----  \n",
      " 0   Id           86377 non-null  object \n",
      " 1   type         86377 non-null  object \n",
      " 2   Expected     75383 non-null  float64\n",
      " 3   Chemical_Id  86377 non-null  object \n",
      " 4   Assay_Id     86377 non-null  object \n",
      "dtypes: float64(1), object(4)\n",
      "memory usage: 4.0+ MB\n"
     ]
    }
   ],
   "source": [
    "#check info of training data\n",
    "df.info()"
   ]
  },
  {
   "cell_type": "code",
   "execution_count": 10,
   "metadata": {},
   "outputs": [
    {
     "name": "stdout",
     "output_type": "stream",
     "text": [
      "Requirement already satisfied: scikit-learn in c:\\python310\\lib\\site-packages (1.2.2)\n",
      "Requirement already satisfied: threadpoolctl>=2.0.0 in c:\\python310\\lib\\site-packages (from scikit-learn) (3.1.0)\n",
      "Requirement already satisfied: scipy>=1.3.2 in c:\\python310\\lib\\site-packages (from scikit-learn) (1.10.0)\n",
      "Requirement already satisfied: joblib>=1.1.1 in c:\\python310\\lib\\site-packages (from scikit-learn) (1.2.0)\n",
      "Requirement already satisfied: numpy>=1.17.3 in c:\\python310\\lib\\site-packages (from scikit-learn) (1.24.1)\n",
      "Note: you may need to restart the kernel to use updated packages.\n"
     ]
    },
    {
     "name": "stderr",
     "output_type": "stream",
     "text": [
      "\n",
      "[notice] A new release of pip is available: 23.0 -> 23.0.1\n",
      "[notice] To update, run: python.exe -m pip install --upgrade pip\n"
     ]
    }
   ],
   "source": [
    "pip install --user scikit-learn"
   ]
  },
  {
   "cell_type": "code",
   "execution_count": 11,
   "metadata": {
    "colab": {
     "base_uri": "https://localhost:8080/",
     "height": 507
    },
    "id": "Fhel08UQi6m_",
    "outputId": "f7a6a593-d2e9-462d-bdd6-d3ce9129f16c"
   },
   "outputs": [
    {
     "name": "stdout",
     "output_type": "stream",
     "text": [
      "{'cc1': 327, 'cc': 326, 'c1': 99, 'ccs': 595, 'nc': 765, 'nc2': 769, 'n2': 726, 'oc': 851, 'c2n1c3cc4ccc': 222, 'c3': 241, 'n4ccc5': 757, 'ccn': 551, 'cc5': 367, 'c6': 314, 'c6cl': 318, 'c7': 319, 'o1': 844, 'ccc': 371, '1c': 9, 'c2': 193, '3c': 56, 'o3': 846, 'cn': 604, 'ccc2': 384, 'cco2': 575, 'c4': 279, 'cl': 603, 'n5ccccc5': 762, 'oc1': 852, 'oc2': 859, 'c1o': 182, 'c1cl': 141, 'n1ccccc1cco': 719, 'coc1': 652, 'c2c': 199, 'nc3': 774, 'ccccoc': 510, 'cccccccc': 421, 'occcc': 885, 'c1ccn': 136, 'cn1cn': 617, 'sc1': 946, 'cccccccccc': 430, 'n2c': 727, 'cc4': 364, 'c3n': 263, 'na': 764, 'ccoc1c': 578, 'os': 936, 'coccoccn': 672, 'cc2cc': 358, 'c1cc1': 113, 'nn': 813, 'sc': 945, 'ccccc': 404, 'coc': 651, 'csc': 694, 'n3': 742, 'ccoc': 576, 'csc1': 695, 'c2n3ccccn3c': 226, 's2': 940, 'ccl': 550, 'ccc1': 372, 'cc2': 354, 'n1': 711, 'c3cl': 261, 'cccsp': 548, 'occ': 872, 'br': 98, 'c23': 195, 'c1i': 174, 'np': 837, 'nc1': 766, 'n1c': 713, 'cnc': 632, 'c21': 194, 'c1c2': 107, 'nocc2': 834, 'cnn': 642, 'c1nc': 179, 'ccn3ccn': 565, 'cc3': 360, 'nsc5': 842, 'c54': 301, 'cs': 689, '1cc': 12, '3cc': 57, '3ccc2': 60, 'sp': 969, 'c1cc': 112, 'ccccc1': 405, 'c3c': 246, 'n3cc2': 746, 'c5': 300, '1cc2': 13, 'c2o': 232, '4coc5': 77, '4c3': 70, 'co': 645, 'cocc': 657, 'c32': 243, 'c1oc': 184, 'n1cc': 715, 'con': 684, 'c2cl': 214, 'coccoccoccocco': 678, 'ccsc': 598, 'ns': 838, 'cccccoc': 500, 'cccc3': 402, 'oc12ccccc2': 853, 'si': 966, 'c1cn': 142, 'ccn1cc2': 555, 'oco3': 925, 'coc4': 655, 'c2ccc': 208, 'cn1c': 606, 'cos': 686, 'occcccoc': 897, 'scn': 958, 'c1c': 106, 'occcccoc2': 898, 'sc2': 947, 'cn3c': 627, 'on': 931, 'c3cc3': 254, 'cn1c2': 607, 'c1ccc2': 123, 'c2c1': 200, 'cc1oc': 352, 'op': 935, 'oc3': 864, 'o2': 845, 'c2n': 219, 'c3c1': 247, 'cccn': 529, 'coc3': 654, 'co2': 647, 'c1br': 105, '1ccc2': 17, 'c3ccn': 260, 'c4ccncc4': 291, 'c4o': 295, 'cccnc': 534, 'ns2': 840, '12ccc': 4, 'c3ccccc3': 259, '1cocn': 23, 'c1n': 175, 'n2ccc': 734, 'c1ccc': 122, 'c1cos': 170, 'c5s': 313, 'cop': 685, 'nccs2': 802, 'n2n': 740, 'c4f': 293, 'c3o': 270, 'o4': 847, 'csc2': 696, 'c1cc2c': 118, 'cc1c3co3': 333, 'cn2c3': 623, 'nc4': 778, 'ccoc1': 577, 'ns1': 839, 'cco': 573, 'c1oc2': 185, '12cc': 2, '2o': 48, 'ccc4': 389, 'sn': 967, 'ccccns': 507, 'ccccn': 501, '1n2c': 25, 'as': 96, 'cccccccccccc': 435, 'occn': 905, 'n2ccocc2': 738, 'mn': 710, 'zn': 976, 'c1cnp': 153, 'cccl': 528, 'oc4': 867, 'ccccccccn': 479, 'ccoc2': 579, 'sc4': 949, 'cc1c': 330, 'ocn2c': 923, 'ccnc1': 568, 'n1ccn': 721, '3co': 63, 'cn4c': 629, '2c': 33, 'c4c': 282, 'c1cccccc': 129, 'c1coc2': 158, 'n2s': 741, 'ccop': 593, '23co3': 32, 'c8': 322, 'c9': 323, 'sccc': 953, 'n2ccc3': 735, 'cs3': 692, 'sc3': 948, 'scc1': 951, 'c12c': 101, 'c3c1o3': 249, 'c1f': 173, 'n2cc': 730, 's3': 941, 'ccc4ccccc4': 392, 'c5oc': 311, 'co1': 646, 'nn21': 817, 'n1ccsc1': 723, 'csp': 700, '4cn': 74, '5cc6': 84, 'nc7': 781, 'c67': 315, 'oo': 932, 'c2i': 218, 'coccc': 663, 'cn1n': 618, '12c': 1, 'c4ccc': 288, 'c4cc': 286, 'c1sc2': 192, 'c2nc': 227, 'ccc2c1c': 386, 'occo': 908, 'oc3coc3': 866, 'c2ns1': 231, 'nh4': 811, 'noc': 832, 'c2oc': 234, 'cccc': 394, 'c1cc2': 117, 'nocc1': 833, '2h': 46, 'c2c3': 203, '31': 52, 'hg': 706, 'c2cc': 205, 'n2c3': 729, 'c13': 103, 'n4': 754, 'ccccccc2': 420, 'cccn3': 533, '4cc': 72, 'o5': 848, 'ccccccc': 415, 'ccccccccccc': 432, 'ccccccccscco': 487, 'scco1': 956, 'c2cn': 215, 'c3br': 245, 'co5': 650, 'ccccoccocco': 515, 'cn2cc1': 624, 'cbr': 325, '2ccc': 37, 'scsc': 962, 'ccccocn': 521, '2ccc4': 38, '34c': 54, 'sccscc': 957, 'cccoc': 540, 'ccccccccc1': 426, 'cn2c': 622, 'c1cccn': 133, 'c3o2': 271, 'c1cnc': 151, 'cc1ccc2': 338, 'cccc2': 401, 'ccccnc': 504, 'n1c2': 714, 'c45cl': 281, 'n1co': 725, 'c1cc1nc2': 116, 'ccnp': 571, 'scn1c2': 960, 'nccc2': 789, 'ccnc': 567, 'ccccccccccccc1': 437, 'coccoccoc': 674, 'cccccccccs': 478, 'cccccccccccco': 461, 'c2n1c': 221, 'co3': 648, 'ccocc4': 583, 'c2sc3': 239, 'c31': 242, 'ccccoccoccocc1': 517, 'oco2': 924, '3ccc4': 61, 'n3c4': 745, 'n5ccc': 761, 'n6ccccc6': 763, 'ccccccccoc': 483, 'nnc1': 824, '5o': 85, 'nnc': 823, 'ccccccccoc1': 484, 'ssc2ccccc2': 972, 'c1ccccc1': 125, 'scc': 950, '6c': 87, 'o6': 849, '7c': 89, 'o7': 850, 'nh2': 809, '2cn3ccc4': 44, 'nc5': 779, '1cccc': 18, 'c3s': 277, 'n1cl': 724, 'cccccccccc1': 431, 'ti': 974, 'c1s': 190, 'ccco': 538, 'cccocc': 542, 'no5': 831, 'nn2c': 818, 'c3f': 262, 'c1cn2ccc1': 147, 'co4': 649, 'cocco': 669, '4o': 79, 'oc6': 869, 'ci': 602, 'no': 828, 'ccn1c': 553, 'coc2': 653, 'n3c': 743, 'cccc4': 403, 'ooc': 933, 'cccccccccccccccc': 441, 'ncc1': 783, 'occc': 882, 'nocco4': 835, '2ccoc': 43, '2oc': 51, 'n3ccc4': 749, 'cccn1c2': 531, 'c2ccc3': 210, 'cn1': 605, 'occ2': 877, 'oc2ccccc2os': 863, 'c1cn2ccn1cc2': 150, '3coc4': 64, '3o': 65, '3ccc': 59, 'n3c1': 744, 'ncc2': 785, 'ncc': 782, 'c5c4': 305, 'c2o1': 233, 'c1c2c': 108, 'cc1c3c2c': 332, 'ccc1nc2': 383, 'nn3': 822, 'ncco': 800, 'ccs1': 596, 'scsp': 965, 'ccccocco': 513, 'n1ccc': 718, 'c3n2cc': 266, 'occoc': 910, 'non': 836, 'cccccc': 410, 'ccoc3': 580, 'cn4ccc': 630, 'ccc1c2': 375, 'c3c2': 250, 'c5f': 309, 'cs2': 691, 'occoccoccoc': 919, 'c1co': 154, 's1': 939, 'ncccn': 795, 'c3cccc3': 258, 'c2ccc4': 211, 'ca': 324, 'c1csc': 171, 'n1cc2': 716, 'no3': 830, 'ccn4c': 566, '2c3': 34, 'oco5': 927, 'cocccoc': 666, 'occcoc': 903, 'ccccccccccccccos': 451, '1co': 22, 'ccc1coc': 381, 'occoccoc': 917, 'ccccccccccccos': 466, 'scc2': 952, 'cn4ccn': 631, 'c2occcl': 236, 'n3ccn': 750, 'ssc': 970, 'ccccoccoccoc': 516, 'cn2': 619, 'cc3c': 361, 'cccccc1': 411, 'occ1': 873, 'c14': 104, '34': 53, 'ccn1': 552, '4c': 69, 'ccccccoc': 493, 'occcccc': 889, 'nccc1': 788, 'cnc2': 634, 'n4cc': 756, '4co': 75, '1cn': 21, 'oc12ccn': 854, 'cc5ccocc5': 368, 'ccn1ccc2': 556, 'cs5': 693, 'nccoc1': 801, 'ccocco': 586, 'cc1coc2': 349, '2cccn': 40, '12': 0, '45': 67, '6o': 88, '7o': 91, 'cocc1': 658, 'nccn': 798, 'ccccccccc': 425, 'cocccocccocc': 667, 'cccoc1': 541, 'c43': 280, 'c2c3cc': 204, 'ncc3': 786, 'n4ccn': 758, 'cc6': 369, 'c6c': 316, 'nc2ccccc2': 773, 'cccccccccco': 471, 'scn1c': 959, 'c2coc': 216, 'cc1coc': 348, 'c1cn2c': 145, 'sccns': 955, '2cc': 35, 'cn1ccn': 613, 'ccs3': 597, 'cc4c': 365, 's4': 942, 'c2ccccc2': 212, 'c1op': 188, 'cccc1coc': 399, 'in': 708, 'oc1c': 855, 'c2ccc1': 209, 'cccccccccccccn1cc': 452, 'oc1cc2ccc1': 856, '4c5': 71, 'nnn': 827, '5c': 81, 'cc12cc1': 328, 'occ4': 880, 'ncnc': 804, 'ccos': 594, 'c4oc': 296, 'cnc1': 633, 'cccccccco': 482, '12cc3': 3, 'c2s1': 238, 'cn1ccc': 610, 'n4c': 755, 'c5cccc5': 306, 'occn5ccccc5': 906, 'cc1ccc2cc1c2': 339, 'cccccccccccccco': 449, 'c3s2': 278, 'occ3': 879, 'occccc': 887, 'c1coc': 156, 'ccccccccccccn1cccccc1': 459, 'occccccc': 890, 'oc23c4': 860, 'oc5': 868, 'coccocco': 673, 'cc1ccc': 337, 'cccco': 508, 'al': 95, 'cccccccoc': 489, 'c2ssc3': 240, 'c3nc': 268, 'c12': 100, 'c4cl': 292, 'ccccp': 524, 'occco': 902, 'cn1cccc1': 612, 'ccccccccccccccccos': 446, 'cc1cc': 334, 'cc3co3': 363, 'cc4co4': 366, '1oc': 29, '4coc': 76, 'c35': 244, 'oco6': 928, '2nc': 47, 'n1cccccc1': 720, 'ba': 97, '23': 31, 'ccoccoc': 587, 'c2s': 237, 'ccccsp': 527, 'scccc': 954, 'ccoccoccocco': 591, 'ccc1c': 374, 'ccccccccc4': 428, 'cn1ccc2': 611, '1cc4': 14, 'ccccoccoc': 514, 'ccccc1ccc': 406, 'occcccccc': 892, 'nc2cc2': 771, 'ccc12cocn1coc2': 373, '1oc2': 30, 'ccccccco': 488, 'c4ccccc4': 289, 'nc2c': 770, 'c1n2cn3cn1cn': 178, 'n2c1': 728, 'c3occ': 275, 'ccccccccccccccc': 440, '1ccc': 16, 'oco4': 926, 'cncc1': 637, 'cnc3': 635, 'ccc3': 388, 'coccoc': 670, 'cccc1': 395, 'nc2ccc': 772, 'c5oc4': 312, 'cccccccccccccc': 438, 'nnc2': 825, 'c3n2': 264, 'c1o2': 183, 'ccccop': 523, 'cc2cccc2': 359, 'ccccccccccccc': 436, 'oc3ccccc3': 865, 'c1coccc1': 159, 'ccccccccn1c': 480, 'cs1': 690, 'c3oc2': 273, 'c1nc2': 180, 'c1cc2cc': 120, 'cc1n2c3': 350, 'ccccccccccccco': 453, 'nccscc1': 803, 'c1cn2ccc1n': 149, 'c4c3': 284, 'cocc2': 661, 'nn1': 814, 'cc2c1c3cc2c': 356, 'occcl': 901, 'no1': 829, 'ccc4ccc': 390, 'c1cn2ccc1c': 148, 'occo4': 909, 'nn2c3': 819, 'c2c1c3': 201, 'nh3': 810, 'ccoccocco': 588, 'cn3cccccc3': 628, 'occccos': 900, 'occc1': 883, 'cccccccccccccccccc': 443, '43c': 66, 'ssc3': 973, 'c3oc4': 274, 'c24': 196, 'c1c2c3c': 109, 'c1c4c2o4': 111, 'n1br': 712, 'c4c2': 283, '2cc1': 36, 'c3n2c': 265, 'fe': 705, 'scscc': 964, 'c1ns': 181, 'ccccccccco': 475, 'ccccccccccc1': 433, 'c4s3': 299, 'cccccccc1': 422, 'ccccccc1': 416, '1c2': 10, 'c4oc5': 297, 'coccoccc': 671, 'cccc1ccc': 396, 'c5c': 303, 'ccccn1c': 502, 'c12ccn': 102, 'c5ccccc5': 307, 'occccccoc': 896, 'occ2co2': 878, 'occ4co4': 881, 'ccc1cc2': 376, 'ccccccocco': 495, 'ccccccccccccoccos': 465, 'c2n1': 220, 'ccccccccccccn1ccocc1': 460, 'cns': 644, 'ccn1cn': 561, 'occoccoccoccoc': 920, 'cccccc1ccc': 413, 'nsc2': 841, 'ccccccccccccn1cccc1': 458, 'cc1co1': 347, 'ccccoccoccocco': 518, 'ccns': 572, 'nc3ccn': 777, 's5': 943, 'c1csc2': 172, 'cn21': 620, 'oh': 930, 'nh': 808, 'ccocc': 581, 'ccccn3ccn': 503, 'occocc': 914, 'n2cccc2': 736, 'cocc1ccc': 659, 'nn2ccccc2': 820, '5cc': 82, '5cc4': 83, 'os2': 937, 'ccn1ccocc': 560, '13c': 7, 'cd': 600, 'ccccccccccccs': 467, 'c1os': 189, 'ii': 707, 'sn2c': 968, 'csccc': 698, 'n1cc3': 717, 'c4c5': 285, 'n5': 760, 'c1coco1': 169, 'ccccccccccccccco': 447, '3ccc5': 62, '45c': 68, 'c3ccc4c': 257, 'ccn1cccc1': 557, 'cccccccccccccccco': 445, 'c2ccn': 213, 'c3oc': 272, 'ccc1ccccc1': 380, 'c1coccn1c': 161, 'ccccocc': 512, 'nccn1cco': 799, 'cccccccccos': 477, 'ccccccccn1cccc1': 481, 'nco': 806, 'nn2cccccc2': 821, 'cc1cccnc1': 341, 'occoc2': 913, 'occccc2': 888, 'occocco': 916, 'ccccccccccccocco': 464, 'cccccccc1ccc': 423, 'c3c4': 251, 'c5c3': 304, 'c1cnccn1': 152, 'cn1ccocc1': 616, 'c3oco4': 276, 'c1cc2c3cc': 119, 'c2c1co': 202, 'cc3co': 362, 'scsc1': 963, 'ccccccccccco': 468, 'c3nc2': 269, 'c5cl': 308, 'ccsscc': 599, 'ccccnc1': 505, 'ccccc1ccccc': 407, 'coccl': 668, 'oos': 934, 'ccccc2': 408, 'c1n2cn3cn1c': 177, 'cc1cc1': 335, 'oc1ccccc1c': 858, 'c1cco': 138, 'scs': 961, 'c3ccc': 256, 'cc1cc2': 336, 'c2n1nc': 225, 'ccccccccccccoc': 462, 'ccoccoccoc': 589, 'cocccl': 664, 'cn23': 621, 'c2n1ccccc': 224, '8o': 93, '9o': 94, 'coccoccoccoc': 677, '12cccc': 5, 'ccococc': 592, 'ccccccoc1': 494, 'nn1co': 816, 'coccoccocco': 676, 'c1coccn1cccn': 163, 'c1ccccc1c': 126, 'cp': 687, 'sb': 944, '7c8': 90, 'oc8': 871, 'cccocco': 545, 'ssc1': 971, 'cc1ccccc1nc': 340, 'c2cc2': 207, 'ccccoccop': 520, 'occocccc': 915, '4o5': 80, 'occoc1': 911, 'c1coccn1': 160, 'cccccccccccoc': 469, 'occccccccccc': 894, 'c1occ2': 187, 'dy': 703, 'ccc2cc1c2': 387, 'ccco2': 539, '1n3cccc3': 26, 'coc5': 656, 'c3c5': 252, 'c25': 197, 'cc12ccc': 329, 'cc1o2': 351, 'ccc1ccc': 378, 'ccccccccscc1': 486, 'cscccccccc': 699, '2o3': 50, 'ccccco': 499, 'ccccccccccccccccc': 442, 'ni': 812, 'cc1cnc': 345, 'cccccccop': 490, 'c1occ': 186, 'ccccnp': 506, 'ccccccc1ccc': 417, 'cccnccn': 537, 'ccccs': 525, 'ccc1cc2ccc': 377, 'ch': 601, 'ccccccc1ccoc1': 419, 'occoccoccoccoccoccoccoccocco': 921, 'cn1cc': 609, '1cc5': 15, '1ccn': 19, 'c2ncc': 229, 'cu': 702, 'n1cco': 722, 'ccc2c': 385, 'ccccccccccoc': 472, '2ccn3': 41, 'c1ccsc1': 140, 'c1cn1p': 144, 'n2cc2': 731, 'n3cc3': 747, 'c1sc': 191, 'occ1co1': 876, 'occcoc2': 904, 'ncnc1': 805, 'cccnccc': 535, 'nccccccn': 792, 'cccccccccccccos': 456, 'ccn1cccn2c': 559, 'cnccn': 640, 'ccn1cccc1cnc': 558, 'pd': 938, 'ccocc1': 582, 'occ1c2': 874, 'cocn': 680, 'cccc1ccoc': 398, 'ccccccccsc': 485, 'c1cc1n2c': 115, 'n4ccncc4': 759, 'cccccccccccccc1': 439, 'csscco': 701, 'c1cccc': 124, 'ccccccccccos': 473, 'c1coccn1cccl': 162, 'cccccccccccccop': 455, 'cccccccccbr': 429, 'cc2c': 355, 'yb': 975, 'cccs': 546, 'c4s': 298, 'ccccccccccccccocc1co1': 450, 'cccccccccccccocc1co1': 454, 'ccccccccccccocc1co1': 463, 'cocn1': 681, 'nc3ccccc3': 776, 'occcc1': 886, 'c1cc2cc1c': 121, '1o2': 28, 'ccccoccoccoccocco': 519, 'occccoc': 899, 'n3ccoccn3c2': 753, '12ccn': 6, '1n': 24, 'ccccccccccccn': 457, 'c1c3': 110, 'coccoccoccoccoc': 679, 'oc2ccccc2o': 862, 'cn1cco': 615, 'ccccccccccccccn': 448, 'ccccccccccccccccccos': 444, 'coccoccocccn': 675, 'c1ccnc': 137, 'cccccc1c': 412, 'nc6': 780, 'c1coc1': 157, 'ccccocnc': 522, 'ccccccoccocco': 496, '1o': 27, '1cl': 20, 'mg': 709, 'ccn2ccc': 563, 'c4n3cc5': 294, 'n3ccocc3': 752, 'c2f': 217, 'c4cc4': 287, 'ncccs': 797, 'cncc': 636, 'cccccccccoc': 476, 'cccn2cccc2': 532, 'nnc3': 826, 'ccccoc1': 511, 'nc12ccc': 767, 'ccccccccccn': 470, 'c1ccoc2': 139, 'cccco2': 509, 'c1co1': 155, 'c1coccn1n': 167, '34ccn5': 55, '4n2c': 78, '7occ': 92, 'c6c5': 317, 'cccsc1': 547, 'ncc1ccoc1': 784, 'c1cccccccc': 130, 'occccccc1': 891, 'ccc4cccc4': 391, 'ccc5': 393, 'ccccccn': 491, 'c2cc1c3c2ccc3': 206, 'oc2ccccc2': 861, 'nd': 807, 'c2br': 198, 'cc1cn': 343, 'cccccccc1cccc1': 424, 'cn1ccn2c': 614, 'c3cc4': 255, 'cocc1co1': 660, 'cocc2co2': 662, '13cc': 8, '2cco3': 42, 'c1ccccc1oc': 128, 'ccccc3': 409, 'ccccccc1cccc': 418, 'occoccocccc': 918, 'cccccc1cccc': 414, 'c3cc2cc3': 253, 'cnccc': 638, 'c1cn2cc3': 146, '61c7': 86, 'c75': 320, 'ccccccccccc1co1': 434, 'cn1c2ccc1cc': 608, 'ccncc': 569, 'cnccnccnccn': 641, 'c5n4': 310, 'c7c6': 321, 'occcccccccccccc': 895, 'nc3ccc': 775, 'ccccccs': 497, 'n2cc3c4': 733, 'c4ccn3c': 290, 'c2oc3': 235, 'ccc1ccc2c': 379, 'cocccn': 665, 'n2ccoc2': 737, 'ccc1n2c3': 382, 'cn2cccc2': 625, 'ccn1c2': 554, 'cnnc': 643, 'ccoccoccocc': 590, 'occoc1cc2cc1c3c2cc': 912, 'cccc1cccc': 397, 'ccncco': 570, 'ccoccn': 585, 'c1cccccccoc': 131, 'cn3': 626, 'c1coccn1cco': 166, 'ccoccc': 584, 'cccc1o': 400, '4ccc5': 73, 'nsn': 843, 'c1n2ccocc2': 176, 'nccco': 796, 'cccccccccl': 474, 'ococcoc': 929, 'cncccc12ccc': 639, 'coco1': 683, 'c2nn': 230, '2co': 45, '2o1': 49, 'occccccccc': 893, 'cccn1c': 530, '2cccc': 39, 'ncccl': 794, 'c5br': 302, 'c1cccccoccccoc': 132, '3cc4': 58, 'cco1': 574, '1c3': 11, 'nccc': 787, 'c1cn1ccc': 143, 'ccn2cc2': 562, 'ccn3cc3': 564, 'cscc': 697, 'c1cccncc1': 134, 'cc1ccoc': 342, 'ncccc': 790, 'cccoccc': 544, 'cr': 688, 'c3n2cc4': 267, 'ccccscccc': 526, 'nccccc1': 791, 'occsccoc': 922, 'cccssccc': 549, 'cc1c2cc': 331, 'cc2c3cccc': 357, 'occ1ccco1': 875, 'c1cc1c': 114, 'c1ccl': 135, 'c1ccccc1o': 127, 'cccocc1co1': 543, 'cccccnccccc': 498, 'nc1c': 768, 'n2co': 739, 'cc1cn1p': 344, 'n2cc2c': 732, 'n3cc3c': 748, 'cccncccn': 536, 'c1coccn1ssc2': 168, 'n3ccncc3': 751, 'occc1ccccc1': 884, 'nccccccnc': 793, 'nn1c2': 815, 'c2n1cc3': 223, 'oc6ccccc6': 870, 'c1coccn1cccs': 164, 'cc1s': 353, 'eu': 704, 'c2nc1': 228, 'ccccccncccccc': 492, 'occnc': 907, 'c1coccn1ccn': 165, 'ccccccccc1ccc': 427, 'cocnc': 682, 'ccbr': 370, 'oc1ccccc1': 857, 'c3c1c': 248, 'cc1cncc': 346}\n"
     ]
    },
    {
     "name": "stdout",
     "output_type": "stream",
     "text": [
      "(86377, 977)\n",
      "<class 'scipy.sparse._csr.csr_matrix'>\n",
      "[[0 0 0 ... 0 0 0]\n",
      " [0 0 0 ... 0 0 0]\n",
      " [0 0 0 ... 0 0 0]\n",
      " ...\n",
      " [0 0 0 ... 0 0 0]\n",
      " [0 0 0 ... 0 0 0]\n",
      " [0 0 0 ... 0 0 0]]\n"
     ]
    },
    {
     "ename": "AttributeError",
     "evalue": "'CountVectorizer' object has no attribute 'get_feature_names'",
     "output_type": "error",
     "traceback": [
      "\u001b[1;31m---------------------------------------------------------------------------\u001b[0m",
      "\u001b[1;31mAttributeError\u001b[0m                            Traceback (most recent call last)",
      "Cell \u001b[1;32mIn [11], line 15\u001b[0m\n\u001b[0;32m     13\u001b[0m \u001b[38;5;28mprint\u001b[39m(\u001b[38;5;28mtype\u001b[39m(vector))\n\u001b[0;32m     14\u001b[0m \u001b[38;5;28mprint\u001b[39m(vector\u001b[38;5;241m.\u001b[39mtoarray())\n\u001b[1;32m---> 15\u001b[0m features_df \u001b[38;5;241m=\u001b[39m pd\u001b[38;5;241m.\u001b[39mDataFrame(vector\u001b[38;5;241m.\u001b[39mtodense(), columns\u001b[38;5;241m=\u001b[39m\u001b[43mvectorizer\u001b[49m\u001b[38;5;241;43m.\u001b[39;49m\u001b[43mget_feature_names\u001b[49m())\n\u001b[0;32m     16\u001b[0m df \u001b[38;5;241m=\u001b[39m df\u001b[38;5;241m.\u001b[39mreset_index(drop\u001b[38;5;241m=\u001b[39m\u001b[38;5;28;01mTrue\u001b[39;00m)\n\u001b[0;32m     17\u001b[0m df \u001b[38;5;241m=\u001b[39m pd\u001b[38;5;241m.\u001b[39mconcat([df, features_df], axis \u001b[38;5;241m=\u001b[39m \u001b[38;5;241m1\u001b[39m)\n",
      "\u001b[1;31mAttributeError\u001b[0m: 'CountVectorizer' object has no attribute 'get_feature_names'"
     ]
    }
   ],
   "source": [
    "from sklearn.feature_extraction.text import CountVectorizer\n",
    "text = df['Chemical_Id']\n",
    "# create the transform\n",
    "vectorizer = CountVectorizer()\n",
    "# tokenize and build vocab\n",
    "vectorizer.fit(text)\n",
    "# summarize\n",
    "print(vectorizer.vocabulary_)\n",
    "# encode document\n",
    "vector = vectorizer.transform(text)\n",
    "# summarize encoded vector\n",
    "print(vector.shape)\n",
    "print(type(vector))\n",
    "print(vector.toarray())\n",
    "features_df = pd.DataFrame(vector.todense(), columns=vectorizer.get_feature_names())\n",
    "df = df.reset_index(drop=True)\n",
    "df = pd.concat([df, features_df], axis = 1)\n",
    "df.head()"
   ]
  },
  {
   "cell_type": "code",
   "execution_count": null,
   "metadata": {
    "colab": {
     "base_uri": "https://localhost:8080/"
    },
    "id": "yd9d92b2keYd",
    "outputId": "4d09557a-c5bc-4085-a7f0-02d3aa29c7ce"
   },
   "outputs": [],
   "source": [
    "train = df[df[\"type\"] == \"train\"]\n",
    "train.shape"
   ]
  },
  {
   "cell_type": "code",
   "execution_count": null,
   "metadata": {
    "colab": {
     "base_uri": "https://localhost:8080/"
    },
    "id": "pmHsnHIqlbDT",
    "outputId": "d533de70-0d5f-4cf3-ee6b-1cdc592c5934"
   },
   "outputs": [],
   "source": [
    "test = df[df[\"type\"] == \"test\"]\n",
    "test.shape"
   ]
  },
  {
   "cell_type": "code",
   "execution_count": null,
   "metadata": {
    "colab": {
     "base_uri": "https://localhost:8080/",
     "height": 351
    },
    "id": "gNxjbxldl7-5",
    "outputId": "d9258d5d-1742-4f9d-fe99-5fd961ca64ef"
   },
   "outputs": [],
   "source": [
    "train.head()"
   ]
  },
  {
   "cell_type": "code",
   "execution_count": null,
   "metadata": {
    "colab": {
     "base_uri": "https://localhost:8080/",
     "height": 299
    },
    "id": "WH580Xk7mJQg",
    "outputId": "9e1d4a67-af4a-4404-e729-42d44d4c15f7"
   },
   "outputs": [],
   "source": [
    "test.head()"
   ]
  },
  {
   "cell_type": "code",
   "execution_count": null,
   "metadata": {
    "colab": {
     "base_uri": "https://localhost:8080/"
    },
    "id": "jsbbrYYcnUPh",
    "outputId": "48a72e4c-a6ea-4730-8884-87a160d8f4a6"
   },
   "outputs": [],
   "source": [
    "train_X = train.drop([\"Id\",\"type\", \"Chemical_Id\", \"Expected\"], axis=1)\n",
    "train_X.shape"
   ]
  },
  {
   "cell_type": "code",
   "execution_count": null,
   "metadata": {
    "colab": {
     "base_uri": "https://localhost:8080/"
    },
    "id": "f_0IF4tuny2D",
    "outputId": "76585ee1-243d-46f6-e646-835bd96187fb"
   },
   "outputs": [],
   "source": [
    "test_X = test.drop([\"Id\", \"type\", \"Expected\", \"Chemical_Id\"], axis=1)\n",
    "test_X.shape"
   ]
  },
  {
   "cell_type": "code",
   "execution_count": null,
   "metadata": {
    "colab": {
     "base_uri": "https://localhost:8080/"
    },
    "id": "4Giw6DTsJ4JK",
    "outputId": "2d94531f-3ba1-444c-a7df-70af3be61795"
   },
   "outputs": [],
   "source": [
    "print(train_X.dtypes)"
   ]
  },
  {
   "cell_type": "code",
   "execution_count": null,
   "metadata": {
    "colab": {
     "base_uri": "https://localhost:8080/"
    },
    "id": "kpkiatgnoINK",
    "outputId": "9373b0f1-ec5e-45c8-b2b0-28a91193a693"
   },
   "outputs": [],
   "source": [
    "train_Y = train[\"Expected\"]\n",
    "train_Y.shape"
   ]
  },
  {
   "cell_type": "code",
   "execution_count": null,
   "metadata": {
    "id": "u1oqCAesJtLY"
   },
   "outputs": [],
   "source": [
    "test_X['Assay_Id'] = test_X['Assay_Id'].astype(str).astype(float).astype(int)"
   ]
  },
  {
   "cell_type": "code",
   "execution_count": null,
   "metadata": {
    "id": "P7LzP8KZJy0D"
   },
   "outputs": [],
   "source": [
    "train_X['Assay_Id'] = train_X['Assay_Id'].astype(str).astype(float).astype(int)"
   ]
  },
  {
   "cell_type": "code",
   "execution_count": null,
   "metadata": {
    "colab": {
     "base_uri": "https://localhost:8080/"
    },
    "id": "abXIK7TsoS8H",
    "outputId": "2877431d-10d4-4356-cf48-980b7c788f8b"
   },
   "outputs": [],
   "source": [
    "from sklearn.ensemble import RandomForestClassifier\n",
    "from sklearn.model_selection import train_test_split\n",
    "from sklearn.metrics import accuracy_score\n",
    "\n",
    "X_train, X_test, Y_train, Y_test = train_test_split(train_X, train_Y, test_size=0.2, random_state=0)\n",
    "\n",
    "model = RandomForestClassifier(random_state=42)\n",
    "model.fit(X_train, Y_train)\n",
    "pred = model.predict(X_test)\n",
    "print(\"Accuracy: \", accuracy_score(Y_test, pred)*100, \"%\")"
   ]
  },
  {
   "cell_type": "code",
   "execution_count": null,
   "metadata": {
    "id": "tTVDUsAN7gW_"
   },
   "outputs": [],
   "source": [
    "from xgboost import XGBClassifier\n",
    "#XGBoost classifier\n",
    "clf=XGBClassifier(max_depth = 8,n_estimators = 400, random_state = 11)"
   ]
  },
  {
   "cell_type": "code",
   "execution_count": null,
   "metadata": {
    "colab": {
     "base_uri": "https://localhost:8080/"
    },
    "id": "o1O5JEik7krT",
    "outputId": "1d4e919e-21d6-47f9-a1b9-bd470033647f"
   },
   "outputs": [],
   "source": [
    "#Fitting the model with the classifier\n",
    "clf.fit(X_train,Y_train)\n",
    "pred = clf.predict(X_test)\n",
    "\n",
    "acc_score = clf.score(X_train,Y_train)\n",
    "print(acc_score)\n",
    "\n",
    "f1_macro_scores = cross_val_score(clf, X_train, Y_train, cv=5, scoring='f1_macro')\n",
    "\n",
    "print(\"%0.4f f1_score(macro) with a standard deviation of %0.4f\" % (f1_macro_scores.mean(), f1_macro_scores.std()))"
   ]
  },
  {
   "cell_type": "code",
   "execution_count": null,
   "metadata": {
    "colab": {
     "base_uri": "https://localhost:8080/"
    },
    "id": "JUK7syeMqCwJ",
    "outputId": "17bbaa47-4796-4fd0-d10c-668669e82f9c"
   },
   "outputs": [],
   "source": [
    "prd = clf.predict(test_X)\n",
    "print(prd)\n",
    "prd1 =  [int(s) for s in prd]\n",
    "print(prd1)"
   ]
  },
  {
   "cell_type": "code",
   "execution_count": null,
   "metadata": {
    "colab": {
     "base_uri": "https://localhost:8080/",
     "height": 17
    },
    "id": "aS2wo1TOqTYb",
    "outputId": "e3de3758-c1c8-4771-b3f3-5504b822b878"
   },
   "outputs": [],
   "source": [
    "op = test_data[[\"Id\"]]\n",
    "op['Predicted'] = prd1\n",
    "op.to_csv(\"Output.csv\", index=False)\n",
    "\n",
    "from google.colab import files\n",
    "files.download(\"Output.csv\")"
   ]
  }
 ],
 "metadata": {
  "colab": {
   "provenance": []
  },
  "kernelspec": {
   "display_name": "Python 3 (ipykernel)",
   "language": "python",
   "name": "python3"
  },
  "language_info": {
   "codemirror_mode": {
    "name": "ipython",
    "version": 3
   },
   "file_extension": ".py",
   "mimetype": "text/x-python",
   "name": "python",
   "nbconvert_exporter": "python",
   "pygments_lexer": "ipython3",
   "version": "3.10.7"
  }
 },
 "nbformat": 4,
 "nbformat_minor": 1
}
