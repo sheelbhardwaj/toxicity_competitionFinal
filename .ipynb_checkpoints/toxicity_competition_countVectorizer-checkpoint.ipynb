{
 "cells": [
  {
   "cell_type": "code",
   "execution_count": 12,
   "metadata": {
    "colab": {
     "base_uri": "https://localhost:8080/",
     "height": 142
    },
    "id": "NCeljJAfhPWW",
    "outputId": "82bf4255-6fff-489a-c3af-618f20cfd1f7"
   },
   "outputs": [],
   "source": [
    "#import important libraries\n",
    "import pandas as pd\n",
    "import numpy as np\n",
    "import matplotlib as mlt"
   ]
  },
  {
   "cell_type": "code",
   "execution_count": 13,
   "metadata": {
    "id": "Pc2dIs_vhcG7"
   },
   "outputs": [],
   "source": [
    "#read the csv files for train and test data respectively\n",
    "train_data = pd.read_csv('train_II.csv')\n",
    "test_data = pd.read_csv('test_II.csv')"
   ]
  },
  {
   "cell_type": "code",
   "execution_count": 14,
   "metadata": {
    "id": "ZGr8RRzdQbnf"
   },
   "outputs": [],
   "source": [
    "#checking structure of submission file\n",
    "sub_data = pd.read_csv('sample_submission.csv')"
   ]
  },
  {
   "cell_type": "code",
   "execution_count": 15,
   "metadata": {
    "colab": {
     "base_uri": "https://localhost:8080/"
    },
    "id": "kMxxhRhRQbsN",
    "outputId": "f1930552-9127-4760-c407-4f6f787be063"
   },
   "outputs": [
    {
     "name": "stdout",
     "output_type": "stream",
     "text": [
      "<class 'pandas.core.frame.DataFrame'>\n",
      "RangeIndex: 10994 entries, 0 to 10993\n",
      "Data columns (total 2 columns):\n",
      " #   Column     Non-Null Count  Dtype \n",
      "---  ------     --------------  ----- \n",
      " 0   Id         10994 non-null  object\n",
      " 1   Predicted  10994 non-null  int64 \n",
      "dtypes: int64(1), object(1)\n",
      "memory usage: 171.9+ KB\n"
     ]
    }
   ],
   "source": [
    "sub_data.info()"
   ]
  },
  {
   "cell_type": "code",
   "execution_count": 16,
   "metadata": {
    "colab": {
     "base_uri": "https://localhost:8080/",
     "height": 206
    },
    "id": "ijpcCTOShk3p",
    "outputId": "3ced80ff-0a1f-432c-ad6f-80563a8c74d0"
   },
   "outputs": [
    {
     "data": {
      "text/html": [
       "<div>\n",
       "<style scoped>\n",
       "    .dataframe tbody tr th:only-of-type {\n",
       "        vertical-align: middle;\n",
       "    }\n",
       "\n",
       "    .dataframe tbody tr th {\n",
       "        vertical-align: top;\n",
       "    }\n",
       "\n",
       "    .dataframe thead th {\n",
       "        text-align: right;\n",
       "    }\n",
       "</style>\n",
       "<table border=\"1\" class=\"dataframe\">\n",
       "  <thead>\n",
       "    <tr style=\"text-align: right;\">\n",
       "      <th></th>\n",
       "      <th>Id</th>\n",
       "    </tr>\n",
       "  </thead>\n",
       "  <tbody>\n",
       "    <tr>\n",
       "      <th>0</th>\n",
       "      <td>CC1=CC(=C(C=C1)C(C)(C)C)O;1682</td>\n",
       "    </tr>\n",
       "    <tr>\n",
       "      <th>1</th>\n",
       "      <td>CCS(=O)(=O)C1=C(N=CC=C1)S(=O)(=O)NC(=O)NC2=NC(...</td>\n",
       "    </tr>\n",
       "    <tr>\n",
       "      <th>2</th>\n",
       "      <td>CC1=NC2=CC=CC=C2N1C3CC4CCC(C3)N4CCC5(CCN(CC5)C...</td>\n",
       "    </tr>\n",
       "    <tr>\n",
       "      <th>3</th>\n",
       "      <td>CC1=CC(=O)[N-]S(=O)(=O)O1.[K+];1850</td>\n",
       "    </tr>\n",
       "    <tr>\n",
       "      <th>4</th>\n",
       "      <td>CCC(C)(C)C(=O)O[C@H]1C[C@H](C=C2[C@H]1[C@H]([C...</td>\n",
       "    </tr>\n",
       "  </tbody>\n",
       "</table>\n",
       "</div>"
      ],
      "text/plain": [
       "                                                  Id\n",
       "0                     CC1=CC(=C(C=C1)C(C)(C)C)O;1682\n",
       "1  CCS(=O)(=O)C1=C(N=CC=C1)S(=O)(=O)NC(=O)NC2=NC(...\n",
       "2  CC1=NC2=CC=CC=C2N1C3CC4CCC(C3)N4CCC5(CCN(CC5)C...\n",
       "3                CC1=CC(=O)[N-]S(=O)(=O)O1.[K+];1850\n",
       "4  CCC(C)(C)C(=O)O[C@H]1C[C@H](C=C2[C@H]1[C@H]([C..."
      ]
     },
     "execution_count": 16,
     "metadata": {},
     "output_type": "execute_result"
    }
   ],
   "source": [
    "#change the column name x to Id in test data set to maintain consistency\n",
    "test_data = test_data.rename(columns = {\"x\": \"Id\"})\n",
    "test_data.head()"
   ]
  },
  {
   "cell_type": "code",
   "execution_count": 17,
   "metadata": {
    "id": "AwbZvGv7hmkb"
   },
   "outputs": [],
   "source": [
    "test_data['type'] = \"test\"\n",
    "train_data['type'] = \"train\""
   ]
  },
  {
   "cell_type": "code",
   "execution_count": 18,
   "metadata": {
    "colab": {
     "base_uri": "https://localhost:8080/",
     "height": 206
    },
    "id": "JrDtr0_ciPxC",
    "outputId": "e6f8e6a7-04e4-456d-ac42-2b6dd6fd9827"
   },
   "outputs": [
    {
     "data": {
      "text/html": [
       "<div>\n",
       "<style scoped>\n",
       "    .dataframe tbody tr th:only-of-type {\n",
       "        vertical-align: middle;\n",
       "    }\n",
       "\n",
       "    .dataframe tbody tr th {\n",
       "        vertical-align: top;\n",
       "    }\n",
       "\n",
       "    .dataframe thead th {\n",
       "        text-align: right;\n",
       "    }\n",
       "</style>\n",
       "<table border=\"1\" class=\"dataframe\">\n",
       "  <thead>\n",
       "    <tr style=\"text-align: right;\">\n",
       "      <th></th>\n",
       "      <th>Id</th>\n",
       "      <th>type</th>\n",
       "      <th>Expected</th>\n",
       "    </tr>\n",
       "  </thead>\n",
       "  <tbody>\n",
       "    <tr>\n",
       "      <th>0</th>\n",
       "      <td>CC1=CC(=C(C=C1)C(C)(C)C)O;1682</td>\n",
       "      <td>test</td>\n",
       "      <td>NaN</td>\n",
       "    </tr>\n",
       "    <tr>\n",
       "      <th>1</th>\n",
       "      <td>CCS(=O)(=O)C1=C(N=CC=C1)S(=O)(=O)NC(=O)NC2=NC(...</td>\n",
       "      <td>test</td>\n",
       "      <td>NaN</td>\n",
       "    </tr>\n",
       "    <tr>\n",
       "      <th>2</th>\n",
       "      <td>CC1=NC2=CC=CC=C2N1C3CC4CCC(C3)N4CCC5(CCN(CC5)C...</td>\n",
       "      <td>test</td>\n",
       "      <td>NaN</td>\n",
       "    </tr>\n",
       "    <tr>\n",
       "      <th>3</th>\n",
       "      <td>CC1=CC(=O)[N-]S(=O)(=O)O1.[K+];1850</td>\n",
       "      <td>test</td>\n",
       "      <td>NaN</td>\n",
       "    </tr>\n",
       "    <tr>\n",
       "      <th>4</th>\n",
       "      <td>CCC(C)(C)C(=O)O[C@H]1C[C@H](C=C2[C@H]1[C@H]([C...</td>\n",
       "      <td>test</td>\n",
       "      <td>NaN</td>\n",
       "    </tr>\n",
       "  </tbody>\n",
       "</table>\n",
       "</div>"
      ],
      "text/plain": [
       "                                                  Id  type  Expected\n",
       "0                     CC1=CC(=C(C=C1)C(C)(C)C)O;1682  test       NaN\n",
       "1  CCS(=O)(=O)C1=C(N=CC=C1)S(=O)(=O)NC(=O)NC2=NC(...  test       NaN\n",
       "2  CC1=NC2=CC=CC=C2N1C3CC4CCC(C3)N4CCC5(CCN(CC5)C...  test       NaN\n",
       "3                CC1=CC(=O)[N-]S(=O)(=O)O1.[K+];1850  test       NaN\n",
       "4  CCC(C)(C)C(=O)O[C@H]1C[C@H](C=C2[C@H]1[C@H]([C...  test       NaN"
      ]
     },
     "execution_count": 18,
     "metadata": {},
     "output_type": "execute_result"
    }
   ],
   "source": [
    "df = pd.concat([test_data, train_data])\n",
    "df.head()"
   ]
  },
  {
   "cell_type": "code",
   "execution_count": 19,
   "metadata": {
    "colab": {
     "base_uri": "https://localhost:8080/",
     "height": 206
    },
    "id": "M7qUiIOYifka",
    "outputId": "6ddfee4a-4f1b-4a0a-ecf5-fb31faba78d6"
   },
   "outputs": [
    {
     "data": {
      "text/html": [
       "<div>\n",
       "<style scoped>\n",
       "    .dataframe tbody tr th:only-of-type {\n",
       "        vertical-align: middle;\n",
       "    }\n",
       "\n",
       "    .dataframe tbody tr th {\n",
       "        vertical-align: top;\n",
       "    }\n",
       "\n",
       "    .dataframe thead th {\n",
       "        text-align: right;\n",
       "    }\n",
       "</style>\n",
       "<table border=\"1\" class=\"dataframe\">\n",
       "  <thead>\n",
       "    <tr style=\"text-align: right;\">\n",
       "      <th></th>\n",
       "      <th>Id</th>\n",
       "      <th>type</th>\n",
       "      <th>Expected</th>\n",
       "      <th>Chemical_Id</th>\n",
       "      <th>Assay_Id</th>\n",
       "    </tr>\n",
       "  </thead>\n",
       "  <tbody>\n",
       "    <tr>\n",
       "      <th>0</th>\n",
       "      <td>CC1=CC(=C(C=C1)C(C)(C)C)O;1682</td>\n",
       "      <td>test</td>\n",
       "      <td>NaN</td>\n",
       "      <td>CC1=CC(=C(C=C1)C(C)(C)C)O</td>\n",
       "      <td>1682</td>\n",
       "    </tr>\n",
       "    <tr>\n",
       "      <th>1</th>\n",
       "      <td>CCS(=O)(=O)C1=C(N=CC=C1)S(=O)(=O)NC(=O)NC2=NC(...</td>\n",
       "      <td>test</td>\n",
       "      <td>NaN</td>\n",
       "      <td>CCS(=O)(=O)C1=C(N=CC=C1)S(=O)(=O)NC(=O)NC2=NC(...</td>\n",
       "      <td>1656</td>\n",
       "    </tr>\n",
       "    <tr>\n",
       "      <th>2</th>\n",
       "      <td>CC1=NC2=CC=CC=C2N1C3CC4CCC(C3)N4CCC5(CCN(CC5)C...</td>\n",
       "      <td>test</td>\n",
       "      <td>NaN</td>\n",
       "      <td>CC1=NC2=CC=CC=C2N1C3CC4CCC(C3)N4CCC5(CCN(CC5)C...</td>\n",
       "      <td>36</td>\n",
       "    </tr>\n",
       "    <tr>\n",
       "      <th>3</th>\n",
       "      <td>CC1=CC(=O)[N-]S(=O)(=O)O1.[K+];1850</td>\n",
       "      <td>test</td>\n",
       "      <td>NaN</td>\n",
       "      <td>CC1=CC(=O)[N-]S(=O)(=O)O1.[K+]</td>\n",
       "      <td>1850</td>\n",
       "    </tr>\n",
       "    <tr>\n",
       "      <th>4</th>\n",
       "      <td>CCC(C)(C)C(=O)O[C@H]1C[C@H](C=C2[C@H]1[C@H]([C...</td>\n",
       "      <td>test</td>\n",
       "      <td>NaN</td>\n",
       "      <td>CCC(C)(C)C(=O)O[C@H]1C[C@H](C=C2[C@H]1[C@H]([C...</td>\n",
       "      <td>30</td>\n",
       "    </tr>\n",
       "  </tbody>\n",
       "</table>\n",
       "</div>"
      ],
      "text/plain": [
       "                                                  Id  type  Expected  \\\n",
       "0                     CC1=CC(=C(C=C1)C(C)(C)C)O;1682  test       NaN   \n",
       "1  CCS(=O)(=O)C1=C(N=CC=C1)S(=O)(=O)NC(=O)NC2=NC(...  test       NaN   \n",
       "2  CC1=NC2=CC=CC=C2N1C3CC4CCC(C3)N4CCC5(CCN(CC5)C...  test       NaN   \n",
       "3                CC1=CC(=O)[N-]S(=O)(=O)O1.[K+];1850  test       NaN   \n",
       "4  CCC(C)(C)C(=O)O[C@H]1C[C@H](C=C2[C@H]1[C@H]([C...  test       NaN   \n",
       "\n",
       "                                         Chemical_Id Assay_Id  \n",
       "0                          CC1=CC(=C(C=C1)C(C)(C)C)O     1682  \n",
       "1  CCS(=O)(=O)C1=C(N=CC=C1)S(=O)(=O)NC(=O)NC2=NC(...     1656  \n",
       "2  CC1=NC2=CC=CC=C2N1C3CC4CCC(C3)N4CCC5(CCN(CC5)C...       36  \n",
       "3                     CC1=CC(=O)[N-]S(=O)(=O)O1.[K+]     1850  \n",
       "4  CCC(C)(C)C(=O)O[C@H]1C[C@H](C=C2[C@H]1[C@H]([C...       30  "
      ]
     },
     "execution_count": 19,
     "metadata": {},
     "output_type": "execute_result"
    }
   ],
   "source": [
    "#divide the column ID into two different columns namely assay Id and chemical ID\n",
    "df[[\"Chemical_Id\", \"Assay_Id\"]] = df.Id.str.split(\";\", expand = True)\n",
    "df.head()"
   ]
  },
  {
   "cell_type": "code",
   "execution_count": 20,
   "metadata": {
    "colab": {
     "base_uri": "https://localhost:8080/"
    },
    "id": "AkOcyF18iwc5",
    "outputId": "377a6022-1ee9-4ca4-b09b-026fbab8368e"
   },
   "outputs": [
    {
     "name": "stdout",
     "output_type": "stream",
     "text": [
      "<class 'pandas.core.frame.DataFrame'>\n",
      "Int64Index: 86377 entries, 0 to 75382\n",
      "Data columns (total 5 columns):\n",
      " #   Column       Non-Null Count  Dtype  \n",
      "---  ------       --------------  -----  \n",
      " 0   Id           86377 non-null  object \n",
      " 1   type         86377 non-null  object \n",
      " 2   Expected     75383 non-null  float64\n",
      " 3   Chemical_Id  86377 non-null  object \n",
      " 4   Assay_Id     86377 non-null  object \n",
      "dtypes: float64(1), object(4)\n",
      "memory usage: 4.0+ MB\n"
     ]
    }
   ],
   "source": [
    "#check info of training data\n",
    "df.info()"
   ]
  },
  {
   "cell_type": "code",
   "execution_count": null,
   "metadata": {},
   "outputs": [],
   "source": [
    "pip install --upgrade scikit-learn"
   ]
  },
  {
   "cell_type": "code",
   "execution_count": null,
   "metadata": {
    "colab": {
     "base_uri": "https://localhost:8080/",
     "height": 507
    },
    "id": "Fhel08UQi6m_",
    "outputId": "f7a6a593-d2e9-462d-bdd6-d3ce9129f16c"
   },
   "outputs": [],
   "source": [
    "from sklearn.feature_extraction.text import CountVectorizer\n",
    "text = df['Chemical_Id']\n",
    "# create the transform\n",
    "vectorizer = CountVectorizer()\n",
    "# tokenize and build vocab\n",
    "vectorizer.fit(text)\n",
    "# summarize\n",
    "print(vectorizer.vocabulary_)\n",
    "# encode document\n",
    "vector = vectorizer.transform(text)\n",
    "# summarize encoded vector\n",
    "print(vector.shape)\n",
    "print(type(vector))\n",
    "print(vector.toarray())\n",
    "features_df = pd.DataFrame(vector.todense(), columns=vectorizer.get_feature_names())\n",
    "df = df.reset_index(drop=True)\n",
    "df = pd.concat([df, features_df], axis = 1)\n",
    "df.head()"
   ]
  },
  {
   "cell_type": "code",
   "execution_count": null,
   "metadata": {
    "colab": {
     "base_uri": "https://localhost:8080/"
    },
    "id": "yd9d92b2keYd",
    "outputId": "4d09557a-c5bc-4085-a7f0-02d3aa29c7ce"
   },
   "outputs": [],
   "source": [
    "train = df[df[\"type\"] == \"train\"]\n",
    "train.shape"
   ]
  },
  {
   "cell_type": "code",
   "execution_count": null,
   "metadata": {
    "colab": {
     "base_uri": "https://localhost:8080/"
    },
    "id": "pmHsnHIqlbDT",
    "outputId": "d533de70-0d5f-4cf3-ee6b-1cdc592c5934"
   },
   "outputs": [],
   "source": [
    "test = df[df[\"type\"] == \"test\"]\n",
    "test.shape"
   ]
  },
  {
   "cell_type": "code",
   "execution_count": null,
   "metadata": {
    "colab": {
     "base_uri": "https://localhost:8080/",
     "height": 351
    },
    "id": "gNxjbxldl7-5",
    "outputId": "d9258d5d-1742-4f9d-fe99-5fd961ca64ef"
   },
   "outputs": [],
   "source": [
    "train.head()"
   ]
  },
  {
   "cell_type": "code",
   "execution_count": null,
   "metadata": {
    "colab": {
     "base_uri": "https://localhost:8080/",
     "height": 299
    },
    "id": "WH580Xk7mJQg",
    "outputId": "9e1d4a67-af4a-4404-e729-42d44d4c15f7"
   },
   "outputs": [],
   "source": [
    "test.head()"
   ]
  },
  {
   "cell_type": "code",
   "execution_count": null,
   "metadata": {
    "colab": {
     "base_uri": "https://localhost:8080/"
    },
    "id": "jsbbrYYcnUPh",
    "outputId": "48a72e4c-a6ea-4730-8884-87a160d8f4a6"
   },
   "outputs": [],
   "source": [
    "train_X = train.drop([\"Id\",\"type\", \"Chemical_Id\", \"Expected\"], axis=1)\n",
    "train_X.shape"
   ]
  },
  {
   "cell_type": "code",
   "execution_count": null,
   "metadata": {
    "colab": {
     "base_uri": "https://localhost:8080/"
    },
    "id": "f_0IF4tuny2D",
    "outputId": "76585ee1-243d-46f6-e646-835bd96187fb"
   },
   "outputs": [],
   "source": [
    "test_X = test.drop([\"Id\", \"type\", \"Expected\", \"Chemical_Id\"], axis=1)\n",
    "test_X.shape"
   ]
  },
  {
   "cell_type": "code",
   "execution_count": null,
   "metadata": {
    "colab": {
     "base_uri": "https://localhost:8080/"
    },
    "id": "4Giw6DTsJ4JK",
    "outputId": "2d94531f-3ba1-444c-a7df-70af3be61795"
   },
   "outputs": [],
   "source": [
    "print(train_X.dtypes)"
   ]
  },
  {
   "cell_type": "code",
   "execution_count": null,
   "metadata": {
    "colab": {
     "base_uri": "https://localhost:8080/"
    },
    "id": "kpkiatgnoINK",
    "outputId": "9373b0f1-ec5e-45c8-b2b0-28a91193a693"
   },
   "outputs": [],
   "source": [
    "train_Y = train[\"Expected\"]\n",
    "train_Y.shape"
   ]
  },
  {
   "cell_type": "code",
   "execution_count": null,
   "metadata": {
    "id": "u1oqCAesJtLY"
   },
   "outputs": [],
   "source": [
    "test_X['Assay_Id'] = test_X['Assay_Id'].astype(str).astype(float).astype(int)"
   ]
  },
  {
   "cell_type": "code",
   "execution_count": null,
   "metadata": {
    "id": "P7LzP8KZJy0D"
   },
   "outputs": [],
   "source": [
    "train_X['Assay_Id'] = train_X['Assay_Id'].astype(str).astype(float).astype(int)"
   ]
  },
  {
   "cell_type": "code",
   "execution_count": null,
   "metadata": {
    "colab": {
     "base_uri": "https://localhost:8080/"
    },
    "id": "abXIK7TsoS8H",
    "outputId": "2877431d-10d4-4356-cf48-980b7c788f8b"
   },
   "outputs": [],
   "source": [
    "from sklearn.ensemble import RandomForestClassifier\n",
    "from sklearn.model_selection import train_test_split\n",
    "from sklearn.metrics import accuracy_score\n",
    "\n",
    "X_train, X_test, Y_train, Y_test = train_test_split(train_X, train_Y, test_size=0.2, random_state=0)\n",
    "\n",
    "model = RandomForestClassifier(random_state=42)\n",
    "model.fit(X_train, Y_train)\n",
    "pred = model.predict(X_test)\n",
    "print(\"Accuracy: \", accuracy_score(Y_test, pred)*100, \"%\")"
   ]
  },
  {
   "cell_type": "code",
   "execution_count": null,
   "metadata": {
    "id": "tTVDUsAN7gW_"
   },
   "outputs": [],
   "source": [
    "from xgboost import XGBClassifier\n",
    "#XGBoost classifier\n",
    "clf=XGBClassifier(max_depth = 8,n_estimators = 400, random_state = 11)"
   ]
  },
  {
   "cell_type": "code",
   "execution_count": null,
   "metadata": {
    "colab": {
     "base_uri": "https://localhost:8080/"
    },
    "id": "o1O5JEik7krT",
    "outputId": "1d4e919e-21d6-47f9-a1b9-bd470033647f"
   },
   "outputs": [],
   "source": [
    "#Fitting the model with the classifier\n",
    "clf.fit(X_train,Y_train)\n",
    "pred = clf.predict(X_test)\n",
    "\n",
    "acc_score = clf.score(X_train,Y_train)\n",
    "print(acc_score)\n",
    "\n",
    "f1_macro_scores = cross_val_score(clf, X_train, Y_train, cv=5, scoring='f1_macro')\n",
    "\n",
    "print(\"%0.4f f1_score(macro) with a standard deviation of %0.4f\" % (f1_macro_scores.mean(), f1_macro_scores.std()))"
   ]
  },
  {
   "cell_type": "code",
   "execution_count": null,
   "metadata": {
    "colab": {
     "base_uri": "https://localhost:8080/"
    },
    "id": "JUK7syeMqCwJ",
    "outputId": "17bbaa47-4796-4fd0-d10c-668669e82f9c"
   },
   "outputs": [],
   "source": [
    "prd = clf.predict(test_X)\n",
    "print(prd)\n",
    "prd1 =  [int(s) for s in prd]\n",
    "print(prd1)"
   ]
  },
  {
   "cell_type": "code",
   "execution_count": null,
   "metadata": {
    "colab": {
     "base_uri": "https://localhost:8080/",
     "height": 17
    },
    "id": "aS2wo1TOqTYb",
    "outputId": "e3de3758-c1c8-4771-b3f3-5504b822b878"
   },
   "outputs": [],
   "source": [
    "op = test_data[[\"Id\"]]\n",
    "op['Predicted'] = prd1\n",
    "op.to_csv(\"Output.csv\", index=False)\n",
    "\n",
    "from google.colab import files\n",
    "files.download(\"Output.csv\")"
   ]
  }
 ],
 "metadata": {
  "colab": {
   "provenance": []
  },
  "kernelspec": {
   "display_name": "Python 3 (ipykernel)",
   "language": "python",
   "name": "python3"
  },
  "language_info": {
   "codemirror_mode": {
    "name": "ipython",
    "version": 3
   },
   "file_extension": ".py",
   "mimetype": "text/x-python",
   "name": "python",
   "nbconvert_exporter": "python",
   "pygments_lexer": "ipython3",
   "version": "3.10.7"
  }
 },
 "nbformat": 4,
 "nbformat_minor": 1
}
